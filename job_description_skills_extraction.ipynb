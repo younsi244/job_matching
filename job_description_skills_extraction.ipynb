{
  "metadata": {
    "kernelspec": {
      "language": "python",
      "display_name": "Python 3",
      "name": "python3"
    },
    "language_info": {
      "name": "python",
      "version": "3.10.12",
      "mimetype": "text/x-python",
      "codemirror_mode": {
        "name": "ipython",
        "version": 3
      },
      "pygments_lexer": "ipython3",
      "nbconvert_exporter": "python",
      "file_extension": ".py"
    },
    "kaggle": {
      "accelerator": "gpu",
      "dataSources": [
        {
          "sourceType": "datasetVersion",
          "sourceId": 4947109,
          "datasetId": 2868722,
          "databundleVersionId": 5015298
        },
        {
          "sourceType": "datasetVersion",
          "sourceId": 11354645,
          "datasetId": 7104628,
          "databundleVersionId": 11782715
        }
      ],
      "dockerImageVersionId": 30919,
      "isInternetEnabled": true,
      "language": "python",
      "sourceType": "notebook",
      "isGpuEnabled": true
    },
    "colab": {
      "provenance": []
    },
    "widgets": {
      "application/vnd.jupyter.widget-state+json": {
        "ceb0bc9a5a954809bc4739a3de68af4d": {
          "model_module": "@jupyter-widgets/controls",
          "model_name": "HBoxModel",
          "model_module_version": "1.5.0",
          "state": {
            "_dom_classes": [],
            "_model_module": "@jupyter-widgets/controls",
            "_model_module_version": "1.5.0",
            "_model_name": "HBoxModel",
            "_view_count": null,
            "_view_module": "@jupyter-widgets/controls",
            "_view_module_version": "1.5.0",
            "_view_name": "HBoxView",
            "box_style": "",
            "children": [
              "IPY_MODEL_e790e8af85aa4fa7951cffc0a5829c36",
              "IPY_MODEL_206264d6bd3341c7be2822126bda77e7",
              "IPY_MODEL_5de62a79357e4ddf8c41e61fd170b3b0"
            ],
            "layout": "IPY_MODEL_ccb005ad7af64234a466903d526ef3a8"
          }
        },
        "e790e8af85aa4fa7951cffc0a5829c36": {
          "model_module": "@jupyter-widgets/controls",
          "model_name": "HTMLModel",
          "model_module_version": "1.5.0",
          "state": {
            "_dom_classes": [],
            "_model_module": "@jupyter-widgets/controls",
            "_model_module_version": "1.5.0",
            "_model_name": "HTMLModel",
            "_view_count": null,
            "_view_module": "@jupyter-widgets/controls",
            "_view_module_version": "1.5.0",
            "_view_name": "HTMLView",
            "description": "",
            "description_tooltip": null,
            "layout": "IPY_MODEL_723b65b34623447b86de2c8961ab8eca",
            "placeholder": "​",
            "style": "IPY_MODEL_42d4a95360624a14b1aa47d02559ad31",
            "value": "tokenizer_config.json: 100%"
          }
        },
        "206264d6bd3341c7be2822126bda77e7": {
          "model_module": "@jupyter-widgets/controls",
          "model_name": "FloatProgressModel",
          "model_module_version": "1.5.0",
          "state": {
            "_dom_classes": [],
            "_model_module": "@jupyter-widgets/controls",
            "_model_module_version": "1.5.0",
            "_model_name": "FloatProgressModel",
            "_view_count": null,
            "_view_module": "@jupyter-widgets/controls",
            "_view_module_version": "1.5.0",
            "_view_name": "ProgressView",
            "bar_style": "success",
            "description": "",
            "description_tooltip": null,
            "layout": "IPY_MODEL_7899a7229c154beb94456b279dad1536",
            "max": 320,
            "min": 0,
            "orientation": "horizontal",
            "style": "IPY_MODEL_8e07c6d9f2d64a1fa1ddbde941b6b483",
            "value": 320
          }
        },
        "5de62a79357e4ddf8c41e61fd170b3b0": {
          "model_module": "@jupyter-widgets/controls",
          "model_name": "HTMLModel",
          "model_module_version": "1.5.0",
          "state": {
            "_dom_classes": [],
            "_model_module": "@jupyter-widgets/controls",
            "_model_module_version": "1.5.0",
            "_model_name": "HTMLModel",
            "_view_count": null,
            "_view_module": "@jupyter-widgets/controls",
            "_view_module_version": "1.5.0",
            "_view_name": "HTMLView",
            "description": "",
            "description_tooltip": null,
            "layout": "IPY_MODEL_f123a14811034147b76347b793f0a6ed",
            "placeholder": "​",
            "style": "IPY_MODEL_22defa12e8d5461f8a457037943fc46a",
            "value": " 320/320 [00:00&lt;00:00, 6.21kB/s]"
          }
        },
        "ccb005ad7af64234a466903d526ef3a8": {
          "model_module": "@jupyter-widgets/base",
          "model_name": "LayoutModel",
          "model_module_version": "1.2.0",
          "state": {
            "_model_module": "@jupyter-widgets/base",
            "_model_module_version": "1.2.0",
            "_model_name": "LayoutModel",
            "_view_count": null,
            "_view_module": "@jupyter-widgets/base",
            "_view_module_version": "1.2.0",
            "_view_name": "LayoutView",
            "align_content": null,
            "align_items": null,
            "align_self": null,
            "border": null,
            "bottom": null,
            "display": null,
            "flex": null,
            "flex_flow": null,
            "grid_area": null,
            "grid_auto_columns": null,
            "grid_auto_flow": null,
            "grid_auto_rows": null,
            "grid_column": null,
            "grid_gap": null,
            "grid_row": null,
            "grid_template_areas": null,
            "grid_template_columns": null,
            "grid_template_rows": null,
            "height": null,
            "justify_content": null,
            "justify_items": null,
            "left": null,
            "margin": null,
            "max_height": null,
            "max_width": null,
            "min_height": null,
            "min_width": null,
            "object_fit": null,
            "object_position": null,
            "order": null,
            "overflow": null,
            "overflow_x": null,
            "overflow_y": null,
            "padding": null,
            "right": null,
            "top": null,
            "visibility": null,
            "width": null
          }
        },
        "723b65b34623447b86de2c8961ab8eca": {
          "model_module": "@jupyter-widgets/base",
          "model_name": "LayoutModel",
          "model_module_version": "1.2.0",
          "state": {
            "_model_module": "@jupyter-widgets/base",
            "_model_module_version": "1.2.0",
            "_model_name": "LayoutModel",
            "_view_count": null,
            "_view_module": "@jupyter-widgets/base",
            "_view_module_version": "1.2.0",
            "_view_name": "LayoutView",
            "align_content": null,
            "align_items": null,
            "align_self": null,
            "border": null,
            "bottom": null,
            "display": null,
            "flex": null,
            "flex_flow": null,
            "grid_area": null,
            "grid_auto_columns": null,
            "grid_auto_flow": null,
            "grid_auto_rows": null,
            "grid_column": null,
            "grid_gap": null,
            "grid_row": null,
            "grid_template_areas": null,
            "grid_template_columns": null,
            "grid_template_rows": null,
            "height": null,
            "justify_content": null,
            "justify_items": null,
            "left": null,
            "margin": null,
            "max_height": null,
            "max_width": null,
            "min_height": null,
            "min_width": null,
            "object_fit": null,
            "object_position": null,
            "order": null,
            "overflow": null,
            "overflow_x": null,
            "overflow_y": null,
            "padding": null,
            "right": null,
            "top": null,
            "visibility": null,
            "width": null
          }
        },
        "42d4a95360624a14b1aa47d02559ad31": {
          "model_module": "@jupyter-widgets/controls",
          "model_name": "DescriptionStyleModel",
          "model_module_version": "1.5.0",
          "state": {
            "_model_module": "@jupyter-widgets/controls",
            "_model_module_version": "1.5.0",
            "_model_name": "DescriptionStyleModel",
            "_view_count": null,
            "_view_module": "@jupyter-widgets/base",
            "_view_module_version": "1.2.0",
            "_view_name": "StyleView",
            "description_width": ""
          }
        },
        "7899a7229c154beb94456b279dad1536": {
          "model_module": "@jupyter-widgets/base",
          "model_name": "LayoutModel",
          "model_module_version": "1.2.0",
          "state": {
            "_model_module": "@jupyter-widgets/base",
            "_model_module_version": "1.2.0",
            "_model_name": "LayoutModel",
            "_view_count": null,
            "_view_module": "@jupyter-widgets/base",
            "_view_module_version": "1.2.0",
            "_view_name": "LayoutView",
            "align_content": null,
            "align_items": null,
            "align_self": null,
            "border": null,
            "bottom": null,
            "display": null,
            "flex": null,
            "flex_flow": null,
            "grid_area": null,
            "grid_auto_columns": null,
            "grid_auto_flow": null,
            "grid_auto_rows": null,
            "grid_column": null,
            "grid_gap": null,
            "grid_row": null,
            "grid_template_areas": null,
            "grid_template_columns": null,
            "grid_template_rows": null,
            "height": null,
            "justify_content": null,
            "justify_items": null,
            "left": null,
            "margin": null,
            "max_height": null,
            "max_width": null,
            "min_height": null,
            "min_width": null,
            "object_fit": null,
            "object_position": null,
            "order": null,
            "overflow": null,
            "overflow_x": null,
            "overflow_y": null,
            "padding": null,
            "right": null,
            "top": null,
            "visibility": null,
            "width": null
          }
        },
        "8e07c6d9f2d64a1fa1ddbde941b6b483": {
          "model_module": "@jupyter-widgets/controls",
          "model_name": "ProgressStyleModel",
          "model_module_version": "1.5.0",
          "state": {
            "_model_module": "@jupyter-widgets/controls",
            "_model_module_version": "1.5.0",
            "_model_name": "ProgressStyleModel",
            "_view_count": null,
            "_view_module": "@jupyter-widgets/base",
            "_view_module_version": "1.2.0",
            "_view_name": "StyleView",
            "bar_color": null,
            "description_width": ""
          }
        },
        "f123a14811034147b76347b793f0a6ed": {
          "model_module": "@jupyter-widgets/base",
          "model_name": "LayoutModel",
          "model_module_version": "1.2.0",
          "state": {
            "_model_module": "@jupyter-widgets/base",
            "_model_module_version": "1.2.0",
            "_model_name": "LayoutModel",
            "_view_count": null,
            "_view_module": "@jupyter-widgets/base",
            "_view_module_version": "1.2.0",
            "_view_name": "LayoutView",
            "align_content": null,
            "align_items": null,
            "align_self": null,
            "border": null,
            "bottom": null,
            "display": null,
            "flex": null,
            "flex_flow": null,
            "grid_area": null,
            "grid_auto_columns": null,
            "grid_auto_flow": null,
            "grid_auto_rows": null,
            "grid_column": null,
            "grid_gap": null,
            "grid_row": null,
            "grid_template_areas": null,
            "grid_template_columns": null,
            "grid_template_rows": null,
            "height": null,
            "justify_content": null,
            "justify_items": null,
            "left": null,
            "margin": null,
            "max_height": null,
            "max_width": null,
            "min_height": null,
            "min_width": null,
            "object_fit": null,
            "object_position": null,
            "order": null,
            "overflow": null,
            "overflow_x": null,
            "overflow_y": null,
            "padding": null,
            "right": null,
            "top": null,
            "visibility": null,
            "width": null
          }
        },
        "22defa12e8d5461f8a457037943fc46a": {
          "model_module": "@jupyter-widgets/controls",
          "model_name": "DescriptionStyleModel",
          "model_module_version": "1.5.0",
          "state": {
            "_model_module": "@jupyter-widgets/controls",
            "_model_module_version": "1.5.0",
            "_model_name": "DescriptionStyleModel",
            "_view_count": null,
            "_view_module": "@jupyter-widgets/base",
            "_view_module_version": "1.2.0",
            "_view_name": "StyleView",
            "description_width": ""
          }
        },
        "0a41466c64ba490bb8712f983c6fe922": {
          "model_module": "@jupyter-widgets/controls",
          "model_name": "HBoxModel",
          "model_module_version": "1.5.0",
          "state": {
            "_dom_classes": [],
            "_model_module": "@jupyter-widgets/controls",
            "_model_module_version": "1.5.0",
            "_model_name": "HBoxModel",
            "_view_count": null,
            "_view_module": "@jupyter-widgets/controls",
            "_view_module_version": "1.5.0",
            "_view_name": "HBoxView",
            "box_style": "",
            "children": [
              "IPY_MODEL_834bb9e078fa449da69485e644c91796",
              "IPY_MODEL_3f933162a5534b80a1b178c146bbd5db",
              "IPY_MODEL_d6c1bce9d9ba44e996f28627de701e77"
            ],
            "layout": "IPY_MODEL_8b1f8ce6c4034098a6895477c5797456"
          }
        },
        "834bb9e078fa449da69485e644c91796": {
          "model_module": "@jupyter-widgets/controls",
          "model_name": "HTMLModel",
          "model_module_version": "1.5.0",
          "state": {
            "_dom_classes": [],
            "_model_module": "@jupyter-widgets/controls",
            "_model_module_version": "1.5.0",
            "_model_name": "HTMLModel",
            "_view_count": null,
            "_view_module": "@jupyter-widgets/controls",
            "_view_module_version": "1.5.0",
            "_view_name": "HTMLView",
            "description": "",
            "description_tooltip": null,
            "layout": "IPY_MODEL_6ceb001acd9f43b88993a01447b5e068",
            "placeholder": "​",
            "style": "IPY_MODEL_1e9755d52cef4786a433756344fadef2",
            "value": "vocab.txt: 100%"
          }
        },
        "3f933162a5534b80a1b178c146bbd5db": {
          "model_module": "@jupyter-widgets/controls",
          "model_name": "FloatProgressModel",
          "model_module_version": "1.5.0",
          "state": {
            "_dom_classes": [],
            "_model_module": "@jupyter-widgets/controls",
            "_model_module_version": "1.5.0",
            "_model_name": "FloatProgressModel",
            "_view_count": null,
            "_view_module": "@jupyter-widgets/controls",
            "_view_module_version": "1.5.0",
            "_view_name": "ProgressView",
            "bar_style": "success",
            "description": "",
            "description_tooltip": null,
            "layout": "IPY_MODEL_cbed2f20b8624ff4aed2d5f237c9e1e8",
            "max": 231508,
            "min": 0,
            "orientation": "horizontal",
            "style": "IPY_MODEL_ea29583bcaf34bad871b12d66d08263f",
            "value": 231508
          }
        },
        "d6c1bce9d9ba44e996f28627de701e77": {
          "model_module": "@jupyter-widgets/controls",
          "model_name": "HTMLModel",
          "model_module_version": "1.5.0",
          "state": {
            "_dom_classes": [],
            "_model_module": "@jupyter-widgets/controls",
            "_model_module_version": "1.5.0",
            "_model_name": "HTMLModel",
            "_view_count": null,
            "_view_module": "@jupyter-widgets/controls",
            "_view_module_version": "1.5.0",
            "_view_name": "HTMLView",
            "description": "",
            "description_tooltip": null,
            "layout": "IPY_MODEL_34a802e51b164e7186d6d84d370c1c52",
            "placeholder": "​",
            "style": "IPY_MODEL_15818a4433e64144b99ba2720ad979f3",
            "value": " 232k/232k [00:00&lt;00:00, 3.55MB/s]"
          }
        },
        "8b1f8ce6c4034098a6895477c5797456": {
          "model_module": "@jupyter-widgets/base",
          "model_name": "LayoutModel",
          "model_module_version": "1.2.0",
          "state": {
            "_model_module": "@jupyter-widgets/base",
            "_model_module_version": "1.2.0",
            "_model_name": "LayoutModel",
            "_view_count": null,
            "_view_module": "@jupyter-widgets/base",
            "_view_module_version": "1.2.0",
            "_view_name": "LayoutView",
            "align_content": null,
            "align_items": null,
            "align_self": null,
            "border": null,
            "bottom": null,
            "display": null,
            "flex": null,
            "flex_flow": null,
            "grid_area": null,
            "grid_auto_columns": null,
            "grid_auto_flow": null,
            "grid_auto_rows": null,
            "grid_column": null,
            "grid_gap": null,
            "grid_row": null,
            "grid_template_areas": null,
            "grid_template_columns": null,
            "grid_template_rows": null,
            "height": null,
            "justify_content": null,
            "justify_items": null,
            "left": null,
            "margin": null,
            "max_height": null,
            "max_width": null,
            "min_height": null,
            "min_width": null,
            "object_fit": null,
            "object_position": null,
            "order": null,
            "overflow": null,
            "overflow_x": null,
            "overflow_y": null,
            "padding": null,
            "right": null,
            "top": null,
            "visibility": null,
            "width": null
          }
        },
        "6ceb001acd9f43b88993a01447b5e068": {
          "model_module": "@jupyter-widgets/base",
          "model_name": "LayoutModel",
          "model_module_version": "1.2.0",
          "state": {
            "_model_module": "@jupyter-widgets/base",
            "_model_module_version": "1.2.0",
            "_model_name": "LayoutModel",
            "_view_count": null,
            "_view_module": "@jupyter-widgets/base",
            "_view_module_version": "1.2.0",
            "_view_name": "LayoutView",
            "align_content": null,
            "align_items": null,
            "align_self": null,
            "border": null,
            "bottom": null,
            "display": null,
            "flex": null,
            "flex_flow": null,
            "grid_area": null,
            "grid_auto_columns": null,
            "grid_auto_flow": null,
            "grid_auto_rows": null,
            "grid_column": null,
            "grid_gap": null,
            "grid_row": null,
            "grid_template_areas": null,
            "grid_template_columns": null,
            "grid_template_rows": null,
            "height": null,
            "justify_content": null,
            "justify_items": null,
            "left": null,
            "margin": null,
            "max_height": null,
            "max_width": null,
            "min_height": null,
            "min_width": null,
            "object_fit": null,
            "object_position": null,
            "order": null,
            "overflow": null,
            "overflow_x": null,
            "overflow_y": null,
            "padding": null,
            "right": null,
            "top": null,
            "visibility": null,
            "width": null
          }
        },
        "1e9755d52cef4786a433756344fadef2": {
          "model_module": "@jupyter-widgets/controls",
          "model_name": "DescriptionStyleModel",
          "model_module_version": "1.5.0",
          "state": {
            "_model_module": "@jupyter-widgets/controls",
            "_model_module_version": "1.5.0",
            "_model_name": "DescriptionStyleModel",
            "_view_count": null,
            "_view_module": "@jupyter-widgets/base",
            "_view_module_version": "1.2.0",
            "_view_name": "StyleView",
            "description_width": ""
          }
        },
        "cbed2f20b8624ff4aed2d5f237c9e1e8": {
          "model_module": "@jupyter-widgets/base",
          "model_name": "LayoutModel",
          "model_module_version": "1.2.0",
          "state": {
            "_model_module": "@jupyter-widgets/base",
            "_model_module_version": "1.2.0",
            "_model_name": "LayoutModel",
            "_view_count": null,
            "_view_module": "@jupyter-widgets/base",
            "_view_module_version": "1.2.0",
            "_view_name": "LayoutView",
            "align_content": null,
            "align_items": null,
            "align_self": null,
            "border": null,
            "bottom": null,
            "display": null,
            "flex": null,
            "flex_flow": null,
            "grid_area": null,
            "grid_auto_columns": null,
            "grid_auto_flow": null,
            "grid_auto_rows": null,
            "grid_column": null,
            "grid_gap": null,
            "grid_row": null,
            "grid_template_areas": null,
            "grid_template_columns": null,
            "grid_template_rows": null,
            "height": null,
            "justify_content": null,
            "justify_items": null,
            "left": null,
            "margin": null,
            "max_height": null,
            "max_width": null,
            "min_height": null,
            "min_width": null,
            "object_fit": null,
            "object_position": null,
            "order": null,
            "overflow": null,
            "overflow_x": null,
            "overflow_y": null,
            "padding": null,
            "right": null,
            "top": null,
            "visibility": null,
            "width": null
          }
        },
        "ea29583bcaf34bad871b12d66d08263f": {
          "model_module": "@jupyter-widgets/controls",
          "model_name": "ProgressStyleModel",
          "model_module_version": "1.5.0",
          "state": {
            "_model_module": "@jupyter-widgets/controls",
            "_model_module_version": "1.5.0",
            "_model_name": "ProgressStyleModel",
            "_view_count": null,
            "_view_module": "@jupyter-widgets/base",
            "_view_module_version": "1.2.0",
            "_view_name": "StyleView",
            "bar_color": null,
            "description_width": ""
          }
        },
        "34a802e51b164e7186d6d84d370c1c52": {
          "model_module": "@jupyter-widgets/base",
          "model_name": "LayoutModel",
          "model_module_version": "1.2.0",
          "state": {
            "_model_module": "@jupyter-widgets/base",
            "_model_module_version": "1.2.0",
            "_model_name": "LayoutModel",
            "_view_count": null,
            "_view_module": "@jupyter-widgets/base",
            "_view_module_version": "1.2.0",
            "_view_name": "LayoutView",
            "align_content": null,
            "align_items": null,
            "align_self": null,
            "border": null,
            "bottom": null,
            "display": null,
            "flex": null,
            "flex_flow": null,
            "grid_area": null,
            "grid_auto_columns": null,
            "grid_auto_flow": null,
            "grid_auto_rows": null,
            "grid_column": null,
            "grid_gap": null,
            "grid_row": null,
            "grid_template_areas": null,
            "grid_template_columns": null,
            "grid_template_rows": null,
            "height": null,
            "justify_content": null,
            "justify_items": null,
            "left": null,
            "margin": null,
            "max_height": null,
            "max_width": null,
            "min_height": null,
            "min_width": null,
            "object_fit": null,
            "object_position": null,
            "order": null,
            "overflow": null,
            "overflow_x": null,
            "overflow_y": null,
            "padding": null,
            "right": null,
            "top": null,
            "visibility": null,
            "width": null
          }
        },
        "15818a4433e64144b99ba2720ad979f3": {
          "model_module": "@jupyter-widgets/controls",
          "model_name": "DescriptionStyleModel",
          "model_module_version": "1.5.0",
          "state": {
            "_model_module": "@jupyter-widgets/controls",
            "_model_module_version": "1.5.0",
            "_model_name": "DescriptionStyleModel",
            "_view_count": null,
            "_view_module": "@jupyter-widgets/base",
            "_view_module_version": "1.2.0",
            "_view_name": "StyleView",
            "description_width": ""
          }
        },
        "e462669aac804864ac1a6b54b8ac9c80": {
          "model_module": "@jupyter-widgets/controls",
          "model_name": "HBoxModel",
          "model_module_version": "1.5.0",
          "state": {
            "_dom_classes": [],
            "_model_module": "@jupyter-widgets/controls",
            "_model_module_version": "1.5.0",
            "_model_name": "HBoxModel",
            "_view_count": null,
            "_view_module": "@jupyter-widgets/controls",
            "_view_module_version": "1.5.0",
            "_view_name": "HBoxView",
            "box_style": "",
            "children": [
              "IPY_MODEL_19b74b8e8d4544afb644fae072bcfe1b",
              "IPY_MODEL_1d0fd29029d64526b05cf8d45d3187be",
              "IPY_MODEL_301af6831848497dad32361629ac2d37"
            ],
            "layout": "IPY_MODEL_b4394caa84ac41de897dffdf623b81b9"
          }
        },
        "19b74b8e8d4544afb644fae072bcfe1b": {
          "model_module": "@jupyter-widgets/controls",
          "model_name": "HTMLModel",
          "model_module_version": "1.5.0",
          "state": {
            "_dom_classes": [],
            "_model_module": "@jupyter-widgets/controls",
            "_model_module_version": "1.5.0",
            "_model_name": "HTMLModel",
            "_view_count": null,
            "_view_module": "@jupyter-widgets/controls",
            "_view_module_version": "1.5.0",
            "_view_name": "HTMLView",
            "description": "",
            "description_tooltip": null,
            "layout": "IPY_MODEL_d7035c7b625e476288373dadb74441b4",
            "placeholder": "​",
            "style": "IPY_MODEL_3f161b59b3254b92990ce79d2a08c743",
            "value": "tokenizer.json: 100%"
          }
        },
        "1d0fd29029d64526b05cf8d45d3187be": {
          "model_module": "@jupyter-widgets/controls",
          "model_name": "FloatProgressModel",
          "model_module_version": "1.5.0",
          "state": {
            "_dom_classes": [],
            "_model_module": "@jupyter-widgets/controls",
            "_model_module_version": "1.5.0",
            "_model_name": "FloatProgressModel",
            "_view_count": null,
            "_view_module": "@jupyter-widgets/controls",
            "_view_module_version": "1.5.0",
            "_view_name": "ProgressView",
            "bar_style": "success",
            "description": "",
            "description_tooltip": null,
            "layout": "IPY_MODEL_666d982d132b48e4a9e2a9e0e4de148e",
            "max": 711494,
            "min": 0,
            "orientation": "horizontal",
            "style": "IPY_MODEL_ae037922bd7c4892b3f244972d8414f3",
            "value": 711494
          }
        },
        "301af6831848497dad32361629ac2d37": {
          "model_module": "@jupyter-widgets/controls",
          "model_name": "HTMLModel",
          "model_module_version": "1.5.0",
          "state": {
            "_dom_classes": [],
            "_model_module": "@jupyter-widgets/controls",
            "_model_module_version": "1.5.0",
            "_model_name": "HTMLModel",
            "_view_count": null,
            "_view_module": "@jupyter-widgets/controls",
            "_view_module_version": "1.5.0",
            "_view_name": "HTMLView",
            "description": "",
            "description_tooltip": null,
            "layout": "IPY_MODEL_49496145dd2447c5bec9fc5315fe6b96",
            "placeholder": "​",
            "style": "IPY_MODEL_09524a5fe658432e99bc2a288e9478d6",
            "value": " 711k/711k [00:00&lt;00:00, 7.79MB/s]"
          }
        },
        "b4394caa84ac41de897dffdf623b81b9": {
          "model_module": "@jupyter-widgets/base",
          "model_name": "LayoutModel",
          "model_module_version": "1.2.0",
          "state": {
            "_model_module": "@jupyter-widgets/base",
            "_model_module_version": "1.2.0",
            "_model_name": "LayoutModel",
            "_view_count": null,
            "_view_module": "@jupyter-widgets/base",
            "_view_module_version": "1.2.0",
            "_view_name": "LayoutView",
            "align_content": null,
            "align_items": null,
            "align_self": null,
            "border": null,
            "bottom": null,
            "display": null,
            "flex": null,
            "flex_flow": null,
            "grid_area": null,
            "grid_auto_columns": null,
            "grid_auto_flow": null,
            "grid_auto_rows": null,
            "grid_column": null,
            "grid_gap": null,
            "grid_row": null,
            "grid_template_areas": null,
            "grid_template_columns": null,
            "grid_template_rows": null,
            "height": null,
            "justify_content": null,
            "justify_items": null,
            "left": null,
            "margin": null,
            "max_height": null,
            "max_width": null,
            "min_height": null,
            "min_width": null,
            "object_fit": null,
            "object_position": null,
            "order": null,
            "overflow": null,
            "overflow_x": null,
            "overflow_y": null,
            "padding": null,
            "right": null,
            "top": null,
            "visibility": null,
            "width": null
          }
        },
        "d7035c7b625e476288373dadb74441b4": {
          "model_module": "@jupyter-widgets/base",
          "model_name": "LayoutModel",
          "model_module_version": "1.2.0",
          "state": {
            "_model_module": "@jupyter-widgets/base",
            "_model_module_version": "1.2.0",
            "_model_name": "LayoutModel",
            "_view_count": null,
            "_view_module": "@jupyter-widgets/base",
            "_view_module_version": "1.2.0",
            "_view_name": "LayoutView",
            "align_content": null,
            "align_items": null,
            "align_self": null,
            "border": null,
            "bottom": null,
            "display": null,
            "flex": null,
            "flex_flow": null,
            "grid_area": null,
            "grid_auto_columns": null,
            "grid_auto_flow": null,
            "grid_auto_rows": null,
            "grid_column": null,
            "grid_gap": null,
            "grid_row": null,
            "grid_template_areas": null,
            "grid_template_columns": null,
            "grid_template_rows": null,
            "height": null,
            "justify_content": null,
            "justify_items": null,
            "left": null,
            "margin": null,
            "max_height": null,
            "max_width": null,
            "min_height": null,
            "min_width": null,
            "object_fit": null,
            "object_position": null,
            "order": null,
            "overflow": null,
            "overflow_x": null,
            "overflow_y": null,
            "padding": null,
            "right": null,
            "top": null,
            "visibility": null,
            "width": null
          }
        },
        "3f161b59b3254b92990ce79d2a08c743": {
          "model_module": "@jupyter-widgets/controls",
          "model_name": "DescriptionStyleModel",
          "model_module_version": "1.5.0",
          "state": {
            "_model_module": "@jupyter-widgets/controls",
            "_model_module_version": "1.5.0",
            "_model_name": "DescriptionStyleModel",
            "_view_count": null,
            "_view_module": "@jupyter-widgets/base",
            "_view_module_version": "1.2.0",
            "_view_name": "StyleView",
            "description_width": ""
          }
        },
        "666d982d132b48e4a9e2a9e0e4de148e": {
          "model_module": "@jupyter-widgets/base",
          "model_name": "LayoutModel",
          "model_module_version": "1.2.0",
          "state": {
            "_model_module": "@jupyter-widgets/base",
            "_model_module_version": "1.2.0",
            "_model_name": "LayoutModel",
            "_view_count": null,
            "_view_module": "@jupyter-widgets/base",
            "_view_module_version": "1.2.0",
            "_view_name": "LayoutView",
            "align_content": null,
            "align_items": null,
            "align_self": null,
            "border": null,
            "bottom": null,
            "display": null,
            "flex": null,
            "flex_flow": null,
            "grid_area": null,
            "grid_auto_columns": null,
            "grid_auto_flow": null,
            "grid_auto_rows": null,
            "grid_column": null,
            "grid_gap": null,
            "grid_row": null,
            "grid_template_areas": null,
            "grid_template_columns": null,
            "grid_template_rows": null,
            "height": null,
            "justify_content": null,
            "justify_items": null,
            "left": null,
            "margin": null,
            "max_height": null,
            "max_width": null,
            "min_height": null,
            "min_width": null,
            "object_fit": null,
            "object_position": null,
            "order": null,
            "overflow": null,
            "overflow_x": null,
            "overflow_y": null,
            "padding": null,
            "right": null,
            "top": null,
            "visibility": null,
            "width": null
          }
        },
        "ae037922bd7c4892b3f244972d8414f3": {
          "model_module": "@jupyter-widgets/controls",
          "model_name": "ProgressStyleModel",
          "model_module_version": "1.5.0",
          "state": {
            "_model_module": "@jupyter-widgets/controls",
            "_model_module_version": "1.5.0",
            "_model_name": "ProgressStyleModel",
            "_view_count": null,
            "_view_module": "@jupyter-widgets/base",
            "_view_module_version": "1.2.0",
            "_view_name": "StyleView",
            "bar_color": null,
            "description_width": ""
          }
        },
        "49496145dd2447c5bec9fc5315fe6b96": {
          "model_module": "@jupyter-widgets/base",
          "model_name": "LayoutModel",
          "model_module_version": "1.2.0",
          "state": {
            "_model_module": "@jupyter-widgets/base",
            "_model_module_version": "1.2.0",
            "_model_name": "LayoutModel",
            "_view_count": null,
            "_view_module": "@jupyter-widgets/base",
            "_view_module_version": "1.2.0",
            "_view_name": "LayoutView",
            "align_content": null,
            "align_items": null,
            "align_self": null,
            "border": null,
            "bottom": null,
            "display": null,
            "flex": null,
            "flex_flow": null,
            "grid_area": null,
            "grid_auto_columns": null,
            "grid_auto_flow": null,
            "grid_auto_rows": null,
            "grid_column": null,
            "grid_gap": null,
            "grid_row": null,
            "grid_template_areas": null,
            "grid_template_columns": null,
            "grid_template_rows": null,
            "height": null,
            "justify_content": null,
            "justify_items": null,
            "left": null,
            "margin": null,
            "max_height": null,
            "max_width": null,
            "min_height": null,
            "min_width": null,
            "object_fit": null,
            "object_position": null,
            "order": null,
            "overflow": null,
            "overflow_x": null,
            "overflow_y": null,
            "padding": null,
            "right": null,
            "top": null,
            "visibility": null,
            "width": null
          }
        },
        "09524a5fe658432e99bc2a288e9478d6": {
          "model_module": "@jupyter-widgets/controls",
          "model_name": "DescriptionStyleModel",
          "model_module_version": "1.5.0",
          "state": {
            "_model_module": "@jupyter-widgets/controls",
            "_model_module_version": "1.5.0",
            "_model_name": "DescriptionStyleModel",
            "_view_count": null,
            "_view_module": "@jupyter-widgets/base",
            "_view_module_version": "1.2.0",
            "_view_name": "StyleView",
            "description_width": ""
          }
        },
        "90be8c88e8a9480692d9d1799584772b": {
          "model_module": "@jupyter-widgets/controls",
          "model_name": "HBoxModel",
          "model_module_version": "1.5.0",
          "state": {
            "_dom_classes": [],
            "_model_module": "@jupyter-widgets/controls",
            "_model_module_version": "1.5.0",
            "_model_name": "HBoxModel",
            "_view_count": null,
            "_view_module": "@jupyter-widgets/controls",
            "_view_module_version": "1.5.0",
            "_view_name": "HBoxView",
            "box_style": "",
            "children": [
              "IPY_MODEL_1fd8c1cbd9e3455685deeed4deaf5ff7",
              "IPY_MODEL_faf0275ff0fd47d6a33d3beead2c77b7",
              "IPY_MODEL_494e39530ec346afb80419fdc768e501"
            ],
            "layout": "IPY_MODEL_eccc1985335e45628c89e3247a4c5fa7"
          }
        },
        "1fd8c1cbd9e3455685deeed4deaf5ff7": {
          "model_module": "@jupyter-widgets/controls",
          "model_name": "HTMLModel",
          "model_module_version": "1.5.0",
          "state": {
            "_dom_classes": [],
            "_model_module": "@jupyter-widgets/controls",
            "_model_module_version": "1.5.0",
            "_model_name": "HTMLModel",
            "_view_count": null,
            "_view_module": "@jupyter-widgets/controls",
            "_view_module_version": "1.5.0",
            "_view_name": "HTMLView",
            "description": "",
            "description_tooltip": null,
            "layout": "IPY_MODEL_52905105fd6a4b7ebbeeb2350eba7ab8",
            "placeholder": "​",
            "style": "IPY_MODEL_661027b3d33a4e4db6fa8d3812f9e9ba",
            "value": "special_tokens_map.json: 100%"
          }
        },
        "faf0275ff0fd47d6a33d3beead2c77b7": {
          "model_module": "@jupyter-widgets/controls",
          "model_name": "FloatProgressModel",
          "model_module_version": "1.5.0",
          "state": {
            "_dom_classes": [],
            "_model_module": "@jupyter-widgets/controls",
            "_model_module_version": "1.5.0",
            "_model_name": "FloatProgressModel",
            "_view_count": null,
            "_view_module": "@jupyter-widgets/controls",
            "_view_module_version": "1.5.0",
            "_view_name": "ProgressView",
            "bar_style": "success",
            "description": "",
            "description_tooltip": null,
            "layout": "IPY_MODEL_230bfd9281b14c7fbc3e303bcd800998",
            "max": 125,
            "min": 0,
            "orientation": "horizontal",
            "style": "IPY_MODEL_670b8c1fb6654400a4587ce509558af1",
            "value": 125
          }
        },
        "494e39530ec346afb80419fdc768e501": {
          "model_module": "@jupyter-widgets/controls",
          "model_name": "HTMLModel",
          "model_module_version": "1.5.0",
          "state": {
            "_dom_classes": [],
            "_model_module": "@jupyter-widgets/controls",
            "_model_module_version": "1.5.0",
            "_model_name": "HTMLModel",
            "_view_count": null,
            "_view_module": "@jupyter-widgets/controls",
            "_view_module_version": "1.5.0",
            "_view_name": "HTMLView",
            "description": "",
            "description_tooltip": null,
            "layout": "IPY_MODEL_ec6039eb58d0486096b402f9d2da3e78",
            "placeholder": "​",
            "style": "IPY_MODEL_5e82816e0dd14da6a341d08662be44ad",
            "value": " 125/125 [00:00&lt;00:00, 4.45kB/s]"
          }
        },
        "eccc1985335e45628c89e3247a4c5fa7": {
          "model_module": "@jupyter-widgets/base",
          "model_name": "LayoutModel",
          "model_module_version": "1.2.0",
          "state": {
            "_model_module": "@jupyter-widgets/base",
            "_model_module_version": "1.2.0",
            "_model_name": "LayoutModel",
            "_view_count": null,
            "_view_module": "@jupyter-widgets/base",
            "_view_module_version": "1.2.0",
            "_view_name": "LayoutView",
            "align_content": null,
            "align_items": null,
            "align_self": null,
            "border": null,
            "bottom": null,
            "display": null,
            "flex": null,
            "flex_flow": null,
            "grid_area": null,
            "grid_auto_columns": null,
            "grid_auto_flow": null,
            "grid_auto_rows": null,
            "grid_column": null,
            "grid_gap": null,
            "grid_row": null,
            "grid_template_areas": null,
            "grid_template_columns": null,
            "grid_template_rows": null,
            "height": null,
            "justify_content": null,
            "justify_items": null,
            "left": null,
            "margin": null,
            "max_height": null,
            "max_width": null,
            "min_height": null,
            "min_width": null,
            "object_fit": null,
            "object_position": null,
            "order": null,
            "overflow": null,
            "overflow_x": null,
            "overflow_y": null,
            "padding": null,
            "right": null,
            "top": null,
            "visibility": null,
            "width": null
          }
        },
        "52905105fd6a4b7ebbeeb2350eba7ab8": {
          "model_module": "@jupyter-widgets/base",
          "model_name": "LayoutModel",
          "model_module_version": "1.2.0",
          "state": {
            "_model_module": "@jupyter-widgets/base",
            "_model_module_version": "1.2.0",
            "_model_name": "LayoutModel",
            "_view_count": null,
            "_view_module": "@jupyter-widgets/base",
            "_view_module_version": "1.2.0",
            "_view_name": "LayoutView",
            "align_content": null,
            "align_items": null,
            "align_self": null,
            "border": null,
            "bottom": null,
            "display": null,
            "flex": null,
            "flex_flow": null,
            "grid_area": null,
            "grid_auto_columns": null,
            "grid_auto_flow": null,
            "grid_auto_rows": null,
            "grid_column": null,
            "grid_gap": null,
            "grid_row": null,
            "grid_template_areas": null,
            "grid_template_columns": null,
            "grid_template_rows": null,
            "height": null,
            "justify_content": null,
            "justify_items": null,
            "left": null,
            "margin": null,
            "max_height": null,
            "max_width": null,
            "min_height": null,
            "min_width": null,
            "object_fit": null,
            "object_position": null,
            "order": null,
            "overflow": null,
            "overflow_x": null,
            "overflow_y": null,
            "padding": null,
            "right": null,
            "top": null,
            "visibility": null,
            "width": null
          }
        },
        "661027b3d33a4e4db6fa8d3812f9e9ba": {
          "model_module": "@jupyter-widgets/controls",
          "model_name": "DescriptionStyleModel",
          "model_module_version": "1.5.0",
          "state": {
            "_model_module": "@jupyter-widgets/controls",
            "_model_module_version": "1.5.0",
            "_model_name": "DescriptionStyleModel",
            "_view_count": null,
            "_view_module": "@jupyter-widgets/base",
            "_view_module_version": "1.2.0",
            "_view_name": "StyleView",
            "description_width": ""
          }
        },
        "230bfd9281b14c7fbc3e303bcd800998": {
          "model_module": "@jupyter-widgets/base",
          "model_name": "LayoutModel",
          "model_module_version": "1.2.0",
          "state": {
            "_model_module": "@jupyter-widgets/base",
            "_model_module_version": "1.2.0",
            "_model_name": "LayoutModel",
            "_view_count": null,
            "_view_module": "@jupyter-widgets/base",
            "_view_module_version": "1.2.0",
            "_view_name": "LayoutView",
            "align_content": null,
            "align_items": null,
            "align_self": null,
            "border": null,
            "bottom": null,
            "display": null,
            "flex": null,
            "flex_flow": null,
            "grid_area": null,
            "grid_auto_columns": null,
            "grid_auto_flow": null,
            "grid_auto_rows": null,
            "grid_column": null,
            "grid_gap": null,
            "grid_row": null,
            "grid_template_areas": null,
            "grid_template_columns": null,
            "grid_template_rows": null,
            "height": null,
            "justify_content": null,
            "justify_items": null,
            "left": null,
            "margin": null,
            "max_height": null,
            "max_width": null,
            "min_height": null,
            "min_width": null,
            "object_fit": null,
            "object_position": null,
            "order": null,
            "overflow": null,
            "overflow_x": null,
            "overflow_y": null,
            "padding": null,
            "right": null,
            "top": null,
            "visibility": null,
            "width": null
          }
        },
        "670b8c1fb6654400a4587ce509558af1": {
          "model_module": "@jupyter-widgets/controls",
          "model_name": "ProgressStyleModel",
          "model_module_version": "1.5.0",
          "state": {
            "_model_module": "@jupyter-widgets/controls",
            "_model_module_version": "1.5.0",
            "_model_name": "ProgressStyleModel",
            "_view_count": null,
            "_view_module": "@jupyter-widgets/base",
            "_view_module_version": "1.2.0",
            "_view_name": "StyleView",
            "bar_color": null,
            "description_width": ""
          }
        },
        "ec6039eb58d0486096b402f9d2da3e78": {
          "model_module": "@jupyter-widgets/base",
          "model_name": "LayoutModel",
          "model_module_version": "1.2.0",
          "state": {
            "_model_module": "@jupyter-widgets/base",
            "_model_module_version": "1.2.0",
            "_model_name": "LayoutModel",
            "_view_count": null,
            "_view_module": "@jupyter-widgets/base",
            "_view_module_version": "1.2.0",
            "_view_name": "LayoutView",
            "align_content": null,
            "align_items": null,
            "align_self": null,
            "border": null,
            "bottom": null,
            "display": null,
            "flex": null,
            "flex_flow": null,
            "grid_area": null,
            "grid_auto_columns": null,
            "grid_auto_flow": null,
            "grid_auto_rows": null,
            "grid_column": null,
            "grid_gap": null,
            "grid_row": null,
            "grid_template_areas": null,
            "grid_template_columns": null,
            "grid_template_rows": null,
            "height": null,
            "justify_content": null,
            "justify_items": null,
            "left": null,
            "margin": null,
            "max_height": null,
            "max_width": null,
            "min_height": null,
            "min_width": null,
            "object_fit": null,
            "object_position": null,
            "order": null,
            "overflow": null,
            "overflow_x": null,
            "overflow_y": null,
            "padding": null,
            "right": null,
            "top": null,
            "visibility": null,
            "width": null
          }
        },
        "5e82816e0dd14da6a341d08662be44ad": {
          "model_module": "@jupyter-widgets/controls",
          "model_name": "DescriptionStyleModel",
          "model_module_version": "1.5.0",
          "state": {
            "_model_module": "@jupyter-widgets/controls",
            "_model_module_version": "1.5.0",
            "_model_name": "DescriptionStyleModel",
            "_view_count": null,
            "_view_module": "@jupyter-widgets/base",
            "_view_module_version": "1.2.0",
            "_view_name": "StyleView",
            "description_width": ""
          }
        },
        "6de5612a00604350913002dae71e609a": {
          "model_module": "@jupyter-widgets/controls",
          "model_name": "HBoxModel",
          "model_module_version": "1.5.0",
          "state": {
            "_dom_classes": [],
            "_model_module": "@jupyter-widgets/controls",
            "_model_module_version": "1.5.0",
            "_model_name": "HBoxModel",
            "_view_count": null,
            "_view_module": "@jupyter-widgets/controls",
            "_view_module_version": "1.5.0",
            "_view_name": "HBoxView",
            "box_style": "",
            "children": [
              "IPY_MODEL_379c1aef00ed46cab3f8ba87ab860865",
              "IPY_MODEL_9eb51809d61e48919cdd5f9b4a103290",
              "IPY_MODEL_5d032975785e4f01b8d37c9cb07e2adc"
            ],
            "layout": "IPY_MODEL_cf5b025afbac44489047de6f2aaa6c57"
          }
        },
        "379c1aef00ed46cab3f8ba87ab860865": {
          "model_module": "@jupyter-widgets/controls",
          "model_name": "HTMLModel",
          "model_module_version": "1.5.0",
          "state": {
            "_dom_classes": [],
            "_model_module": "@jupyter-widgets/controls",
            "_model_module_version": "1.5.0",
            "_model_name": "HTMLModel",
            "_view_count": null,
            "_view_module": "@jupyter-widgets/controls",
            "_view_module_version": "1.5.0",
            "_view_name": "HTMLView",
            "description": "",
            "description_tooltip": null,
            "layout": "IPY_MODEL_23deac36c6ad403a8118c695b47694cd",
            "placeholder": "​",
            "style": "IPY_MODEL_78c77753da8b479d83c60971ca4e76e8",
            "value": "config.json: 100%"
          }
        },
        "9eb51809d61e48919cdd5f9b4a103290": {
          "model_module": "@jupyter-widgets/controls",
          "model_name": "FloatProgressModel",
          "model_module_version": "1.5.0",
          "state": {
            "_dom_classes": [],
            "_model_module": "@jupyter-widgets/controls",
            "_model_module_version": "1.5.0",
            "_model_name": "FloatProgressModel",
            "_view_count": null,
            "_view_module": "@jupyter-widgets/controls",
            "_view_module_version": "1.5.0",
            "_view_name": "ProgressView",
            "bar_style": "success",
            "description": "",
            "description_tooltip": null,
            "layout": "IPY_MODEL_c30878c4a52446dc9f9780fdefc2c178",
            "max": 996,
            "min": 0,
            "orientation": "horizontal",
            "style": "IPY_MODEL_685351fa20a240ae8599972b2018cc82",
            "value": 996
          }
        },
        "5d032975785e4f01b8d37c9cb07e2adc": {
          "model_module": "@jupyter-widgets/controls",
          "model_name": "HTMLModel",
          "model_module_version": "1.5.0",
          "state": {
            "_dom_classes": [],
            "_model_module": "@jupyter-widgets/controls",
            "_model_module_version": "1.5.0",
            "_model_name": "HTMLModel",
            "_view_count": null,
            "_view_module": "@jupyter-widgets/controls",
            "_view_module_version": "1.5.0",
            "_view_name": "HTMLView",
            "description": "",
            "description_tooltip": null,
            "layout": "IPY_MODEL_7bb4ed8ce023405e90b8fa2688058802",
            "placeholder": "​",
            "style": "IPY_MODEL_39677bf5b041439eb1458f248789546e",
            "value": " 996/996 [00:00&lt;00:00, 27.0kB/s]"
          }
        },
        "cf5b025afbac44489047de6f2aaa6c57": {
          "model_module": "@jupyter-widgets/base",
          "model_name": "LayoutModel",
          "model_module_version": "1.2.0",
          "state": {
            "_model_module": "@jupyter-widgets/base",
            "_model_module_version": "1.2.0",
            "_model_name": "LayoutModel",
            "_view_count": null,
            "_view_module": "@jupyter-widgets/base",
            "_view_module_version": "1.2.0",
            "_view_name": "LayoutView",
            "align_content": null,
            "align_items": null,
            "align_self": null,
            "border": null,
            "bottom": null,
            "display": null,
            "flex": null,
            "flex_flow": null,
            "grid_area": null,
            "grid_auto_columns": null,
            "grid_auto_flow": null,
            "grid_auto_rows": null,
            "grid_column": null,
            "grid_gap": null,
            "grid_row": null,
            "grid_template_areas": null,
            "grid_template_columns": null,
            "grid_template_rows": null,
            "height": null,
            "justify_content": null,
            "justify_items": null,
            "left": null,
            "margin": null,
            "max_height": null,
            "max_width": null,
            "min_height": null,
            "min_width": null,
            "object_fit": null,
            "object_position": null,
            "order": null,
            "overflow": null,
            "overflow_x": null,
            "overflow_y": null,
            "padding": null,
            "right": null,
            "top": null,
            "visibility": null,
            "width": null
          }
        },
        "23deac36c6ad403a8118c695b47694cd": {
          "model_module": "@jupyter-widgets/base",
          "model_name": "LayoutModel",
          "model_module_version": "1.2.0",
          "state": {
            "_model_module": "@jupyter-widgets/base",
            "_model_module_version": "1.2.0",
            "_model_name": "LayoutModel",
            "_view_count": null,
            "_view_module": "@jupyter-widgets/base",
            "_view_module_version": "1.2.0",
            "_view_name": "LayoutView",
            "align_content": null,
            "align_items": null,
            "align_self": null,
            "border": null,
            "bottom": null,
            "display": null,
            "flex": null,
            "flex_flow": null,
            "grid_area": null,
            "grid_auto_columns": null,
            "grid_auto_flow": null,
            "grid_auto_rows": null,
            "grid_column": null,
            "grid_gap": null,
            "grid_row": null,
            "grid_template_areas": null,
            "grid_template_columns": null,
            "grid_template_rows": null,
            "height": null,
            "justify_content": null,
            "justify_items": null,
            "left": null,
            "margin": null,
            "max_height": null,
            "max_width": null,
            "min_height": null,
            "min_width": null,
            "object_fit": null,
            "object_position": null,
            "order": null,
            "overflow": null,
            "overflow_x": null,
            "overflow_y": null,
            "padding": null,
            "right": null,
            "top": null,
            "visibility": null,
            "width": null
          }
        },
        "78c77753da8b479d83c60971ca4e76e8": {
          "model_module": "@jupyter-widgets/controls",
          "model_name": "DescriptionStyleModel",
          "model_module_version": "1.5.0",
          "state": {
            "_model_module": "@jupyter-widgets/controls",
            "_model_module_version": "1.5.0",
            "_model_name": "DescriptionStyleModel",
            "_view_count": null,
            "_view_module": "@jupyter-widgets/base",
            "_view_module_version": "1.2.0",
            "_view_name": "StyleView",
            "description_width": ""
          }
        },
        "c30878c4a52446dc9f9780fdefc2c178": {
          "model_module": "@jupyter-widgets/base",
          "model_name": "LayoutModel",
          "model_module_version": "1.2.0",
          "state": {
            "_model_module": "@jupyter-widgets/base",
            "_model_module_version": "1.2.0",
            "_model_name": "LayoutModel",
            "_view_count": null,
            "_view_module": "@jupyter-widgets/base",
            "_view_module_version": "1.2.0",
            "_view_name": "LayoutView",
            "align_content": null,
            "align_items": null,
            "align_self": null,
            "border": null,
            "bottom": null,
            "display": null,
            "flex": null,
            "flex_flow": null,
            "grid_area": null,
            "grid_auto_columns": null,
            "grid_auto_flow": null,
            "grid_auto_rows": null,
            "grid_column": null,
            "grid_gap": null,
            "grid_row": null,
            "grid_template_areas": null,
            "grid_template_columns": null,
            "grid_template_rows": null,
            "height": null,
            "justify_content": null,
            "justify_items": null,
            "left": null,
            "margin": null,
            "max_height": null,
            "max_width": null,
            "min_height": null,
            "min_width": null,
            "object_fit": null,
            "object_position": null,
            "order": null,
            "overflow": null,
            "overflow_x": null,
            "overflow_y": null,
            "padding": null,
            "right": null,
            "top": null,
            "visibility": null,
            "width": null
          }
        },
        "685351fa20a240ae8599972b2018cc82": {
          "model_module": "@jupyter-widgets/controls",
          "model_name": "ProgressStyleModel",
          "model_module_version": "1.5.0",
          "state": {
            "_model_module": "@jupyter-widgets/controls",
            "_model_module_version": "1.5.0",
            "_model_name": "ProgressStyleModel",
            "_view_count": null,
            "_view_module": "@jupyter-widgets/base",
            "_view_module_version": "1.2.0",
            "_view_name": "StyleView",
            "bar_color": null,
            "description_width": ""
          }
        },
        "7bb4ed8ce023405e90b8fa2688058802": {
          "model_module": "@jupyter-widgets/base",
          "model_name": "LayoutModel",
          "model_module_version": "1.2.0",
          "state": {
            "_model_module": "@jupyter-widgets/base",
            "_model_module_version": "1.2.0",
            "_model_name": "LayoutModel",
            "_view_count": null,
            "_view_module": "@jupyter-widgets/base",
            "_view_module_version": "1.2.0",
            "_view_name": "LayoutView",
            "align_content": null,
            "align_items": null,
            "align_self": null,
            "border": null,
            "bottom": null,
            "display": null,
            "flex": null,
            "flex_flow": null,
            "grid_area": null,
            "grid_auto_columns": null,
            "grid_auto_flow": null,
            "grid_auto_rows": null,
            "grid_column": null,
            "grid_gap": null,
            "grid_row": null,
            "grid_template_areas": null,
            "grid_template_columns": null,
            "grid_template_rows": null,
            "height": null,
            "justify_content": null,
            "justify_items": null,
            "left": null,
            "margin": null,
            "max_height": null,
            "max_width": null,
            "min_height": null,
            "min_width": null,
            "object_fit": null,
            "object_position": null,
            "order": null,
            "overflow": null,
            "overflow_x": null,
            "overflow_y": null,
            "padding": null,
            "right": null,
            "top": null,
            "visibility": null,
            "width": null
          }
        },
        "39677bf5b041439eb1458f248789546e": {
          "model_module": "@jupyter-widgets/controls",
          "model_name": "DescriptionStyleModel",
          "model_module_version": "1.5.0",
          "state": {
            "_model_module": "@jupyter-widgets/controls",
            "_model_module_version": "1.5.0",
            "_model_name": "DescriptionStyleModel",
            "_view_count": null,
            "_view_module": "@jupyter-widgets/base",
            "_view_module_version": "1.2.0",
            "_view_name": "StyleView",
            "description_width": ""
          }
        },
        "091cdd971a9c4572ae87d9655b1d28c2": {
          "model_module": "@jupyter-widgets/controls",
          "model_name": "HBoxModel",
          "model_module_version": "1.5.0",
          "state": {
            "_dom_classes": [],
            "_model_module": "@jupyter-widgets/controls",
            "_model_module_version": "1.5.0",
            "_model_name": "HBoxModel",
            "_view_count": null,
            "_view_module": "@jupyter-widgets/controls",
            "_view_module_version": "1.5.0",
            "_view_name": "HBoxView",
            "box_style": "",
            "children": [
              "IPY_MODEL_83fe2edf4c7343db8f08bcfa8d3b427b",
              "IPY_MODEL_bb75c68d7c414ff89e8466cd3b1cd275",
              "IPY_MODEL_0423b78e50a3490da046e185a5217c75"
            ],
            "layout": "IPY_MODEL_0cbfa34443484485921ef4ef6c3e96c2"
          }
        },
        "83fe2edf4c7343db8f08bcfa8d3b427b": {
          "model_module": "@jupyter-widgets/controls",
          "model_name": "HTMLModel",
          "model_module_version": "1.5.0",
          "state": {
            "_dom_classes": [],
            "_model_module": "@jupyter-widgets/controls",
            "_model_module_version": "1.5.0",
            "_model_name": "HTMLModel",
            "_view_count": null,
            "_view_module": "@jupyter-widgets/controls",
            "_view_module_version": "1.5.0",
            "_view_name": "HTMLView",
            "description": "",
            "description_tooltip": null,
            "layout": "IPY_MODEL_be436dd5f35546529dee3c60888768a7",
            "placeholder": "​",
            "style": "IPY_MODEL_9ede2f7b2ee84ffbb3db08588e3e7f07",
            "value": "pytorch_model.bin: 100%"
          }
        },
        "bb75c68d7c414ff89e8466cd3b1cd275": {
          "model_module": "@jupyter-widgets/controls",
          "model_name": "FloatProgressModel",
          "model_module_version": "1.5.0",
          "state": {
            "_dom_classes": [],
            "_model_module": "@jupyter-widgets/controls",
            "_model_module_version": "1.5.0",
            "_model_name": "FloatProgressModel",
            "_view_count": null,
            "_view_module": "@jupyter-widgets/controls",
            "_view_module_version": "1.5.0",
            "_view_name": "ProgressView",
            "bar_style": "success",
            "description": "",
            "description_tooltip": null,
            "layout": "IPY_MODEL_d629290cd54c48ed98e3f024d264ced6",
            "max": 265514021,
            "min": 0,
            "orientation": "horizontal",
            "style": "IPY_MODEL_75f18a418c4340e89f5c14e78e023ed0",
            "value": 265514021
          }
        },
        "0423b78e50a3490da046e185a5217c75": {
          "model_module": "@jupyter-widgets/controls",
          "model_name": "HTMLModel",
          "model_module_version": "1.5.0",
          "state": {
            "_dom_classes": [],
            "_model_module": "@jupyter-widgets/controls",
            "_model_module_version": "1.5.0",
            "_model_name": "HTMLModel",
            "_view_count": null,
            "_view_module": "@jupyter-widgets/controls",
            "_view_module_version": "1.5.0",
            "_view_name": "HTMLView",
            "description": "",
            "description_tooltip": null,
            "layout": "IPY_MODEL_4496d58f6ed64cf8b0c9146809c41420",
            "placeholder": "​",
            "style": "IPY_MODEL_6836b3b06bd444258f8bae6f891532b1",
            "value": " 266M/266M [00:01&lt;00:00, 166MB/s]"
          }
        },
        "0cbfa34443484485921ef4ef6c3e96c2": {
          "model_module": "@jupyter-widgets/base",
          "model_name": "LayoutModel",
          "model_module_version": "1.2.0",
          "state": {
            "_model_module": "@jupyter-widgets/base",
            "_model_module_version": "1.2.0",
            "_model_name": "LayoutModel",
            "_view_count": null,
            "_view_module": "@jupyter-widgets/base",
            "_view_module_version": "1.2.0",
            "_view_name": "LayoutView",
            "align_content": null,
            "align_items": null,
            "align_self": null,
            "border": null,
            "bottom": null,
            "display": null,
            "flex": null,
            "flex_flow": null,
            "grid_area": null,
            "grid_auto_columns": null,
            "grid_auto_flow": null,
            "grid_auto_rows": null,
            "grid_column": null,
            "grid_gap": null,
            "grid_row": null,
            "grid_template_areas": null,
            "grid_template_columns": null,
            "grid_template_rows": null,
            "height": null,
            "justify_content": null,
            "justify_items": null,
            "left": null,
            "margin": null,
            "max_height": null,
            "max_width": null,
            "min_height": null,
            "min_width": null,
            "object_fit": null,
            "object_position": null,
            "order": null,
            "overflow": null,
            "overflow_x": null,
            "overflow_y": null,
            "padding": null,
            "right": null,
            "top": null,
            "visibility": null,
            "width": null
          }
        },
        "be436dd5f35546529dee3c60888768a7": {
          "model_module": "@jupyter-widgets/base",
          "model_name": "LayoutModel",
          "model_module_version": "1.2.0",
          "state": {
            "_model_module": "@jupyter-widgets/base",
            "_model_module_version": "1.2.0",
            "_model_name": "LayoutModel",
            "_view_count": null,
            "_view_module": "@jupyter-widgets/base",
            "_view_module_version": "1.2.0",
            "_view_name": "LayoutView",
            "align_content": null,
            "align_items": null,
            "align_self": null,
            "border": null,
            "bottom": null,
            "display": null,
            "flex": null,
            "flex_flow": null,
            "grid_area": null,
            "grid_auto_columns": null,
            "grid_auto_flow": null,
            "grid_auto_rows": null,
            "grid_column": null,
            "grid_gap": null,
            "grid_row": null,
            "grid_template_areas": null,
            "grid_template_columns": null,
            "grid_template_rows": null,
            "height": null,
            "justify_content": null,
            "justify_items": null,
            "left": null,
            "margin": null,
            "max_height": null,
            "max_width": null,
            "min_height": null,
            "min_width": null,
            "object_fit": null,
            "object_position": null,
            "order": null,
            "overflow": null,
            "overflow_x": null,
            "overflow_y": null,
            "padding": null,
            "right": null,
            "top": null,
            "visibility": null,
            "width": null
          }
        },
        "9ede2f7b2ee84ffbb3db08588e3e7f07": {
          "model_module": "@jupyter-widgets/controls",
          "model_name": "DescriptionStyleModel",
          "model_module_version": "1.5.0",
          "state": {
            "_model_module": "@jupyter-widgets/controls",
            "_model_module_version": "1.5.0",
            "_model_name": "DescriptionStyleModel",
            "_view_count": null,
            "_view_module": "@jupyter-widgets/base",
            "_view_module_version": "1.2.0",
            "_view_name": "StyleView",
            "description_width": ""
          }
        },
        "d629290cd54c48ed98e3f024d264ced6": {
          "model_module": "@jupyter-widgets/base",
          "model_name": "LayoutModel",
          "model_module_version": "1.2.0",
          "state": {
            "_model_module": "@jupyter-widgets/base",
            "_model_module_version": "1.2.0",
            "_model_name": "LayoutModel",
            "_view_count": null,
            "_view_module": "@jupyter-widgets/base",
            "_view_module_version": "1.2.0",
            "_view_name": "LayoutView",
            "align_content": null,
            "align_items": null,
            "align_self": null,
            "border": null,
            "bottom": null,
            "display": null,
            "flex": null,
            "flex_flow": null,
            "grid_area": null,
            "grid_auto_columns": null,
            "grid_auto_flow": null,
            "grid_auto_rows": null,
            "grid_column": null,
            "grid_gap": null,
            "grid_row": null,
            "grid_template_areas": null,
            "grid_template_columns": null,
            "grid_template_rows": null,
            "height": null,
            "justify_content": null,
            "justify_items": null,
            "left": null,
            "margin": null,
            "max_height": null,
            "max_width": null,
            "min_height": null,
            "min_width": null,
            "object_fit": null,
            "object_position": null,
            "order": null,
            "overflow": null,
            "overflow_x": null,
            "overflow_y": null,
            "padding": null,
            "right": null,
            "top": null,
            "visibility": null,
            "width": null
          }
        },
        "75f18a418c4340e89f5c14e78e023ed0": {
          "model_module": "@jupyter-widgets/controls",
          "model_name": "ProgressStyleModel",
          "model_module_version": "1.5.0",
          "state": {
            "_model_module": "@jupyter-widgets/controls",
            "_model_module_version": "1.5.0",
            "_model_name": "ProgressStyleModel",
            "_view_count": null,
            "_view_module": "@jupyter-widgets/base",
            "_view_module_version": "1.2.0",
            "_view_name": "StyleView",
            "bar_color": null,
            "description_width": ""
          }
        },
        "4496d58f6ed64cf8b0c9146809c41420": {
          "model_module": "@jupyter-widgets/base",
          "model_name": "LayoutModel",
          "model_module_version": "1.2.0",
          "state": {
            "_model_module": "@jupyter-widgets/base",
            "_model_module_version": "1.2.0",
            "_model_name": "LayoutModel",
            "_view_count": null,
            "_view_module": "@jupyter-widgets/base",
            "_view_module_version": "1.2.0",
            "_view_name": "LayoutView",
            "align_content": null,
            "align_items": null,
            "align_self": null,
            "border": null,
            "bottom": null,
            "display": null,
            "flex": null,
            "flex_flow": null,
            "grid_area": null,
            "grid_auto_columns": null,
            "grid_auto_flow": null,
            "grid_auto_rows": null,
            "grid_column": null,
            "grid_gap": null,
            "grid_row": null,
            "grid_template_areas": null,
            "grid_template_columns": null,
            "grid_template_rows": null,
            "height": null,
            "justify_content": null,
            "justify_items": null,
            "left": null,
            "margin": null,
            "max_height": null,
            "max_width": null,
            "min_height": null,
            "min_width": null,
            "object_fit": null,
            "object_position": null,
            "order": null,
            "overflow": null,
            "overflow_x": null,
            "overflow_y": null,
            "padding": null,
            "right": null,
            "top": null,
            "visibility": null,
            "width": null
          }
        },
        "6836b3b06bd444258f8bae6f891532b1": {
          "model_module": "@jupyter-widgets/controls",
          "model_name": "DescriptionStyleModel",
          "model_module_version": "1.5.0",
          "state": {
            "_model_module": "@jupyter-widgets/controls",
            "_model_module_version": "1.5.0",
            "_model_name": "DescriptionStyleModel",
            "_view_count": null,
            "_view_module": "@jupyter-widgets/base",
            "_view_module_version": "1.2.0",
            "_view_name": "StyleView",
            "description_width": ""
          }
        },
        "172c76e734e342cba0928c1a548a57d0": {
          "model_module": "@jupyter-widgets/controls",
          "model_name": "HBoxModel",
          "model_module_version": "1.5.0",
          "state": {
            "_dom_classes": [],
            "_model_module": "@jupyter-widgets/controls",
            "_model_module_version": "1.5.0",
            "_model_name": "HBoxModel",
            "_view_count": null,
            "_view_module": "@jupyter-widgets/controls",
            "_view_module_version": "1.5.0",
            "_view_name": "HBoxView",
            "box_style": "",
            "children": [
              "IPY_MODEL_d478ca2b594b4169bf33030dba12d69c",
              "IPY_MODEL_735a5e6de8484af1884e70c32b19efd4",
              "IPY_MODEL_8d0824efa473485ab4c3b40ca22721d9"
            ],
            "layout": "IPY_MODEL_c8a1bb12bdbd4e30af6ecb4ed20321c2"
          }
        },
        "d478ca2b594b4169bf33030dba12d69c": {
          "model_module": "@jupyter-widgets/controls",
          "model_name": "HTMLModel",
          "model_module_version": "1.5.0",
          "state": {
            "_dom_classes": [],
            "_model_module": "@jupyter-widgets/controls",
            "_model_module_version": "1.5.0",
            "_model_name": "HTMLModel",
            "_view_count": null,
            "_view_module": "@jupyter-widgets/controls",
            "_view_module_version": "1.5.0",
            "_view_name": "HTMLView",
            "description": "",
            "description_tooltip": null,
            "layout": "IPY_MODEL_50cf9b2eed864e27b293772e6b58ecd5",
            "placeholder": "​",
            "style": "IPY_MODEL_24b905c4d3d24108b565d5ebed067d6d",
            "value": "model.safetensors: 100%"
          }
        },
        "735a5e6de8484af1884e70c32b19efd4": {
          "model_module": "@jupyter-widgets/controls",
          "model_name": "FloatProgressModel",
          "model_module_version": "1.5.0",
          "state": {
            "_dom_classes": [],
            "_model_module": "@jupyter-widgets/controls",
            "_model_module_version": "1.5.0",
            "_model_name": "FloatProgressModel",
            "_view_count": null,
            "_view_module": "@jupyter-widgets/controls",
            "_view_module_version": "1.5.0",
            "_view_name": "ProgressView",
            "bar_style": "success",
            "description": "",
            "description_tooltip": null,
            "layout": "IPY_MODEL_fd6751c597d6446e98c07c12689fee62",
            "max": 265491548,
            "min": 0,
            "orientation": "horizontal",
            "style": "IPY_MODEL_b7761bfff9d84733b83c8da07c4bbf9f",
            "value": 265491548
          }
        },
        "8d0824efa473485ab4c3b40ca22721d9": {
          "model_module": "@jupyter-widgets/controls",
          "model_name": "HTMLModel",
          "model_module_version": "1.5.0",
          "state": {
            "_dom_classes": [],
            "_model_module": "@jupyter-widgets/controls",
            "_model_module_version": "1.5.0",
            "_model_name": "HTMLModel",
            "_view_count": null,
            "_view_module": "@jupyter-widgets/controls",
            "_view_module_version": "1.5.0",
            "_view_name": "HTMLView",
            "description": "",
            "description_tooltip": null,
            "layout": "IPY_MODEL_e0d84f0380ea42dd8fd76523921f4047",
            "placeholder": "​",
            "style": "IPY_MODEL_5a6a54819ac14a3cb9e13116347a29a6",
            "value": " 265M/265M [00:05&lt;00:00, 156MB/s]"
          }
        },
        "c8a1bb12bdbd4e30af6ecb4ed20321c2": {
          "model_module": "@jupyter-widgets/base",
          "model_name": "LayoutModel",
          "model_module_version": "1.2.0",
          "state": {
            "_model_module": "@jupyter-widgets/base",
            "_model_module_version": "1.2.0",
            "_model_name": "LayoutModel",
            "_view_count": null,
            "_view_module": "@jupyter-widgets/base",
            "_view_module_version": "1.2.0",
            "_view_name": "LayoutView",
            "align_content": null,
            "align_items": null,
            "align_self": null,
            "border": null,
            "bottom": null,
            "display": null,
            "flex": null,
            "flex_flow": null,
            "grid_area": null,
            "grid_auto_columns": null,
            "grid_auto_flow": null,
            "grid_auto_rows": null,
            "grid_column": null,
            "grid_gap": null,
            "grid_row": null,
            "grid_template_areas": null,
            "grid_template_columns": null,
            "grid_template_rows": null,
            "height": null,
            "justify_content": null,
            "justify_items": null,
            "left": null,
            "margin": null,
            "max_height": null,
            "max_width": null,
            "min_height": null,
            "min_width": null,
            "object_fit": null,
            "object_position": null,
            "order": null,
            "overflow": null,
            "overflow_x": null,
            "overflow_y": null,
            "padding": null,
            "right": null,
            "top": null,
            "visibility": null,
            "width": null
          }
        },
        "50cf9b2eed864e27b293772e6b58ecd5": {
          "model_module": "@jupyter-widgets/base",
          "model_name": "LayoutModel",
          "model_module_version": "1.2.0",
          "state": {
            "_model_module": "@jupyter-widgets/base",
            "_model_module_version": "1.2.0",
            "_model_name": "LayoutModel",
            "_view_count": null,
            "_view_module": "@jupyter-widgets/base",
            "_view_module_version": "1.2.0",
            "_view_name": "LayoutView",
            "align_content": null,
            "align_items": null,
            "align_self": null,
            "border": null,
            "bottom": null,
            "display": null,
            "flex": null,
            "flex_flow": null,
            "grid_area": null,
            "grid_auto_columns": null,
            "grid_auto_flow": null,
            "grid_auto_rows": null,
            "grid_column": null,
            "grid_gap": null,
            "grid_row": null,
            "grid_template_areas": null,
            "grid_template_columns": null,
            "grid_template_rows": null,
            "height": null,
            "justify_content": null,
            "justify_items": null,
            "left": null,
            "margin": null,
            "max_height": null,
            "max_width": null,
            "min_height": null,
            "min_width": null,
            "object_fit": null,
            "object_position": null,
            "order": null,
            "overflow": null,
            "overflow_x": null,
            "overflow_y": null,
            "padding": null,
            "right": null,
            "top": null,
            "visibility": null,
            "width": null
          }
        },
        "24b905c4d3d24108b565d5ebed067d6d": {
          "model_module": "@jupyter-widgets/controls",
          "model_name": "DescriptionStyleModel",
          "model_module_version": "1.5.0",
          "state": {
            "_model_module": "@jupyter-widgets/controls",
            "_model_module_version": "1.5.0",
            "_model_name": "DescriptionStyleModel",
            "_view_count": null,
            "_view_module": "@jupyter-widgets/base",
            "_view_module_version": "1.2.0",
            "_view_name": "StyleView",
            "description_width": ""
          }
        },
        "fd6751c597d6446e98c07c12689fee62": {
          "model_module": "@jupyter-widgets/base",
          "model_name": "LayoutModel",
          "model_module_version": "1.2.0",
          "state": {
            "_model_module": "@jupyter-widgets/base",
            "_model_module_version": "1.2.0",
            "_model_name": "LayoutModel",
            "_view_count": null,
            "_view_module": "@jupyter-widgets/base",
            "_view_module_version": "1.2.0",
            "_view_name": "LayoutView",
            "align_content": null,
            "align_items": null,
            "align_self": null,
            "border": null,
            "bottom": null,
            "display": null,
            "flex": null,
            "flex_flow": null,
            "grid_area": null,
            "grid_auto_columns": null,
            "grid_auto_flow": null,
            "grid_auto_rows": null,
            "grid_column": null,
            "grid_gap": null,
            "grid_row": null,
            "grid_template_areas": null,
            "grid_template_columns": null,
            "grid_template_rows": null,
            "height": null,
            "justify_content": null,
            "justify_items": null,
            "left": null,
            "margin": null,
            "max_height": null,
            "max_width": null,
            "min_height": null,
            "min_width": null,
            "object_fit": null,
            "object_position": null,
            "order": null,
            "overflow": null,
            "overflow_x": null,
            "overflow_y": null,
            "padding": null,
            "right": null,
            "top": null,
            "visibility": null,
            "width": null
          }
        },
        "b7761bfff9d84733b83c8da07c4bbf9f": {
          "model_module": "@jupyter-widgets/controls",
          "model_name": "ProgressStyleModel",
          "model_module_version": "1.5.0",
          "state": {
            "_model_module": "@jupyter-widgets/controls",
            "_model_module_version": "1.5.0",
            "_model_name": "ProgressStyleModel",
            "_view_count": null,
            "_view_module": "@jupyter-widgets/base",
            "_view_module_version": "1.2.0",
            "_view_name": "StyleView",
            "bar_color": null,
            "description_width": ""
          }
        },
        "e0d84f0380ea42dd8fd76523921f4047": {
          "model_module": "@jupyter-widgets/base",
          "model_name": "LayoutModel",
          "model_module_version": "1.2.0",
          "state": {
            "_model_module": "@jupyter-widgets/base",
            "_model_module_version": "1.2.0",
            "_model_name": "LayoutModel",
            "_view_count": null,
            "_view_module": "@jupyter-widgets/base",
            "_view_module_version": "1.2.0",
            "_view_name": "LayoutView",
            "align_content": null,
            "align_items": null,
            "align_self": null,
            "border": null,
            "bottom": null,
            "display": null,
            "flex": null,
            "flex_flow": null,
            "grid_area": null,
            "grid_auto_columns": null,
            "grid_auto_flow": null,
            "grid_auto_rows": null,
            "grid_column": null,
            "grid_gap": null,
            "grid_row": null,
            "grid_template_areas": null,
            "grid_template_columns": null,
            "grid_template_rows": null,
            "height": null,
            "justify_content": null,
            "justify_items": null,
            "left": null,
            "margin": null,
            "max_height": null,
            "max_width": null,
            "min_height": null,
            "min_width": null,
            "object_fit": null,
            "object_position": null,
            "order": null,
            "overflow": null,
            "overflow_x": null,
            "overflow_y": null,
            "padding": null,
            "right": null,
            "top": null,
            "visibility": null,
            "width": null
          }
        },
        "5a6a54819ac14a3cb9e13116347a29a6": {
          "model_module": "@jupyter-widgets/controls",
          "model_name": "DescriptionStyleModel",
          "model_module_version": "1.5.0",
          "state": {
            "_model_module": "@jupyter-widgets/controls",
            "_model_module_version": "1.5.0",
            "_model_name": "DescriptionStyleModel",
            "_view_count": null,
            "_view_module": "@jupyter-widgets/base",
            "_view_module_version": "1.2.0",
            "_view_name": "StyleView",
            "description_width": ""
          }
        }
      }
    }
  },
  "nbformat_minor": 0,
  "nbformat": 4,
  "cells": [
    {
      "cell_type": "markdown",
      "source": [
        "# Testing the model"
      ],
      "metadata": {
        "id": "c-mbW-kwle0F"
      }
    },
    {
      "cell_type": "code",
      "source": [
        "from transformers import AutoTokenizer, AutoModelForTokenClassification\n",
        "import torch\n",
        "\n",
        "# Load model and tokenizer\n",
        "tokenizer = AutoTokenizer.from_pretrained(\"algiraldohe/lm-ner-linkedin-skills-recognition\")\n",
        "model = AutoModelForTokenClassification.from_pretrained(\"algiraldohe/lm-ner-linkedin-skills-recognition\")\n",
        "\n",
        "# Set model to evaluation mode\n",
        "model.eval()\n",
        "\n",
        "# Input text\n",
        "text = \"\"\"\n",
        "We are looking for a software engineer with experience in Python, machine learning, and cloud computing.\n",
        "Familiarity with Docker, Kubernetes, and RESTful APIs is a plus.\n",
        "\"\"\"\n",
        "\n",
        "# Tokenize input text\n",
        "inputs = tokenizer(text, return_tensors=\"pt\", truncation=True)\n",
        "\n",
        "# Run inference\n",
        "with torch.no_grad():\n",
        "    outputs = model(**inputs)\n",
        "\n",
        "# Get the predicted token labels\n",
        "logits = outputs.logits\n",
        "predictions = torch.argmax(logits, dim=2)\n",
        "\n",
        "# Convert input IDs to tokens\n",
        "tokens = tokenizer.convert_ids_to_tokens(inputs[\"input_ids\"][0])\n",
        "predicted_labels = predictions[0].numpy()\n",
        "\n",
        "# Get label names from model's config\n",
        "id2label = model.config.id2label\n",
        "\n",
        "# Extract skills\n",
        "extracted_skills = []\n",
        "current_skill = \"\"\n",
        "\n",
        "for token, label_id in zip(tokens, predicted_labels):\n",
        "    label = id2label[label_id]\n",
        "    if label != \"O\":  # 'O' means no entity\n",
        "        if token.startswith(\"##\"):  # Handle subword tokenization\n",
        "            current_skill += token[2:]  # Remove the \"##\" prefix\n",
        "        else:\n",
        "            if current_skill:\n",
        "                extracted_skills.append(current_skill)\n",
        "            current_skill = token\n",
        "\n",
        "# Append the last skill\n",
        "if current_skill:\n",
        "    extracted_skills.append(current_skill)\n",
        "\n",
        "# Display the results\n",
        "print(\"Extracted skills:\")\n",
        "for skill in extracted_skills:\n",
        "    print(skill)\n"
      ],
      "metadata": {
        "trusted": true,
        "execution": {
          "iopub.status.busy": "2025-04-07T18:16:16.079669Z",
          "iopub.execute_input": "2025-04-07T18:16:16.080031Z",
          "iopub.status.idle": "2025-04-07T18:16:16.551205Z",
          "shell.execute_reply.started": "2025-04-07T18:16:16.079997Z",
          "shell.execute_reply": "2025-04-07T18:16:16.549509Z"
        },
        "colab": {
          "base_uri": "https://localhost:8080/",
          "height": 484,
          "referenced_widgets": [
            "ceb0bc9a5a954809bc4739a3de68af4d",
            "e790e8af85aa4fa7951cffc0a5829c36",
            "206264d6bd3341c7be2822126bda77e7",
            "5de62a79357e4ddf8c41e61fd170b3b0",
            "ccb005ad7af64234a466903d526ef3a8",
            "723b65b34623447b86de2c8961ab8eca",
            "42d4a95360624a14b1aa47d02559ad31",
            "7899a7229c154beb94456b279dad1536",
            "8e07c6d9f2d64a1fa1ddbde941b6b483",
            "f123a14811034147b76347b793f0a6ed",
            "22defa12e8d5461f8a457037943fc46a",
            "0a41466c64ba490bb8712f983c6fe922",
            "834bb9e078fa449da69485e644c91796",
            "3f933162a5534b80a1b178c146bbd5db",
            "d6c1bce9d9ba44e996f28627de701e77",
            "8b1f8ce6c4034098a6895477c5797456",
            "6ceb001acd9f43b88993a01447b5e068",
            "1e9755d52cef4786a433756344fadef2",
            "cbed2f20b8624ff4aed2d5f237c9e1e8",
            "ea29583bcaf34bad871b12d66d08263f",
            "34a802e51b164e7186d6d84d370c1c52",
            "15818a4433e64144b99ba2720ad979f3",
            "e462669aac804864ac1a6b54b8ac9c80",
            "19b74b8e8d4544afb644fae072bcfe1b",
            "1d0fd29029d64526b05cf8d45d3187be",
            "301af6831848497dad32361629ac2d37",
            "b4394caa84ac41de897dffdf623b81b9",
            "d7035c7b625e476288373dadb74441b4",
            "3f161b59b3254b92990ce79d2a08c743",
            "666d982d132b48e4a9e2a9e0e4de148e",
            "ae037922bd7c4892b3f244972d8414f3",
            "49496145dd2447c5bec9fc5315fe6b96",
            "09524a5fe658432e99bc2a288e9478d6",
            "90be8c88e8a9480692d9d1799584772b",
            "1fd8c1cbd9e3455685deeed4deaf5ff7",
            "faf0275ff0fd47d6a33d3beead2c77b7",
            "494e39530ec346afb80419fdc768e501",
            "eccc1985335e45628c89e3247a4c5fa7",
            "52905105fd6a4b7ebbeeb2350eba7ab8",
            "661027b3d33a4e4db6fa8d3812f9e9ba",
            "230bfd9281b14c7fbc3e303bcd800998",
            "670b8c1fb6654400a4587ce509558af1",
            "ec6039eb58d0486096b402f9d2da3e78",
            "5e82816e0dd14da6a341d08662be44ad",
            "6de5612a00604350913002dae71e609a",
            "379c1aef00ed46cab3f8ba87ab860865",
            "9eb51809d61e48919cdd5f9b4a103290",
            "5d032975785e4f01b8d37c9cb07e2adc",
            "cf5b025afbac44489047de6f2aaa6c57",
            "23deac36c6ad403a8118c695b47694cd",
            "78c77753da8b479d83c60971ca4e76e8",
            "c30878c4a52446dc9f9780fdefc2c178",
            "685351fa20a240ae8599972b2018cc82",
            "7bb4ed8ce023405e90b8fa2688058802",
            "39677bf5b041439eb1458f248789546e",
            "091cdd971a9c4572ae87d9655b1d28c2",
            "83fe2edf4c7343db8f08bcfa8d3b427b",
            "bb75c68d7c414ff89e8466cd3b1cd275",
            "0423b78e50a3490da046e185a5217c75",
            "0cbfa34443484485921ef4ef6c3e96c2",
            "be436dd5f35546529dee3c60888768a7",
            "9ede2f7b2ee84ffbb3db08588e3e7f07",
            "d629290cd54c48ed98e3f024d264ced6",
            "75f18a418c4340e89f5c14e78e023ed0",
            "4496d58f6ed64cf8b0c9146809c41420",
            "6836b3b06bd444258f8bae6f891532b1",
            "172c76e734e342cba0928c1a548a57d0",
            "d478ca2b594b4169bf33030dba12d69c",
            "735a5e6de8484af1884e70c32b19efd4",
            "8d0824efa473485ab4c3b40ca22721d9",
            "c8a1bb12bdbd4e30af6ecb4ed20321c2",
            "50cf9b2eed864e27b293772e6b58ecd5",
            "24b905c4d3d24108b565d5ebed067d6d",
            "fd6751c597d6446e98c07c12689fee62",
            "b7761bfff9d84733b83c8da07c4bbf9f",
            "e0d84f0380ea42dd8fd76523921f4047",
            "5a6a54819ac14a3cb9e13116347a29a6"
          ]
        },
        "id": "7hYlvbZ_le0I",
        "outputId": "4722c2d3-b9e5-4ead-e2e2-e4cea65e9503"
      },
      "outputs": [
        {
          "output_type": "stream",
          "name": "stderr",
          "text": [
            "/usr/local/lib/python3.11/dist-packages/huggingface_hub/utils/_auth.py:94: UserWarning: \n",
            "The secret `HF_TOKEN` does not exist in your Colab secrets.\n",
            "To authenticate with the Hugging Face Hub, create a token in your settings tab (https://huggingface.co/settings/tokens), set it as secret in your Google Colab and restart your session.\n",
            "You will be able to reuse this secret in all of your notebooks.\n",
            "Please note that authentication is recommended but still optional to access public models or datasets.\n",
            "  warnings.warn(\n"
          ]
        },
        {
          "output_type": "display_data",
          "data": {
            "text/plain": [
              "tokenizer_config.json:   0%|          | 0.00/320 [00:00<?, ?B/s]"
            ],
            "application/vnd.jupyter.widget-view+json": {
              "version_major": 2,
              "version_minor": 0,
              "model_id": "ceb0bc9a5a954809bc4739a3de68af4d"
            }
          },
          "metadata": {}
        },
        {
          "output_type": "display_data",
          "data": {
            "text/plain": [
              "vocab.txt:   0%|          | 0.00/232k [00:00<?, ?B/s]"
            ],
            "application/vnd.jupyter.widget-view+json": {
              "version_major": 2,
              "version_minor": 0,
              "model_id": "0a41466c64ba490bb8712f983c6fe922"
            }
          },
          "metadata": {}
        },
        {
          "output_type": "display_data",
          "data": {
            "text/plain": [
              "tokenizer.json:   0%|          | 0.00/711k [00:00<?, ?B/s]"
            ],
            "application/vnd.jupyter.widget-view+json": {
              "version_major": 2,
              "version_minor": 0,
              "model_id": "e462669aac804864ac1a6b54b8ac9c80"
            }
          },
          "metadata": {}
        },
        {
          "output_type": "display_data",
          "data": {
            "text/plain": [
              "special_tokens_map.json:   0%|          | 0.00/125 [00:00<?, ?B/s]"
            ],
            "application/vnd.jupyter.widget-view+json": {
              "version_major": 2,
              "version_minor": 0,
              "model_id": "90be8c88e8a9480692d9d1799584772b"
            }
          },
          "metadata": {}
        },
        {
          "output_type": "display_data",
          "data": {
            "text/plain": [
              "config.json:   0%|          | 0.00/996 [00:00<?, ?B/s]"
            ],
            "application/vnd.jupyter.widget-view+json": {
              "version_major": 2,
              "version_minor": 0,
              "model_id": "6de5612a00604350913002dae71e609a"
            }
          },
          "metadata": {}
        },
        {
          "output_type": "display_data",
          "data": {
            "text/plain": [
              "pytorch_model.bin:   0%|          | 0.00/266M [00:00<?, ?B/s]"
            ],
            "application/vnd.jupyter.widget-view+json": {
              "version_major": 2,
              "version_minor": 0,
              "model_id": "091cdd971a9c4572ae87d9655b1d28c2"
            }
          },
          "metadata": {}
        },
        {
          "output_type": "display_data",
          "data": {
            "text/plain": [
              "model.safetensors:   0%|          | 0.00/265M [00:00<?, ?B/s]"
            ],
            "application/vnd.jupyter.widget-view+json": {
              "version_major": 2,
              "version_minor": 0,
              "model_id": "172c76e734e342cba0928c1a548a57d0"
            }
          },
          "metadata": {}
        },
        {
          "output_type": "stream",
          "name": "stdout",
          "text": [
            "Extracted skills:\n",
            "software\n",
            "python\n",
            "machine\n",
            "learning\n",
            "cloud\n",
            "computing\n",
            "kubernetes\n"
          ]
        }
      ],
      "execution_count": null
    },
    {
      "cell_type": "code",
      "source": [
        "from transformers import AutoTokenizer, AutoModelForTokenClassification\n",
        "import torch\n",
        "\n",
        "# Load model and tokenizer\n",
        "tokenizer = AutoTokenizer.from_pretrained(\"algiraldohe/lm-ner-linkedin-skills-recognition\")\n",
        "model = AutoModelForTokenClassification.from_pretrained(\"algiraldohe/lm-ner-linkedin-skills-recognition\")\n",
        "\n",
        "# Set model to evaluation mode\n",
        "model.eval()\n",
        "\n",
        "# Input text\n",
        "text = \"\"\"\n",
        "We are looking for a software engineer with experience in Python, machine learning, and cloud computing.\n",
        "Familiarity with Docker, Kubernetes, and RESTful APIs is a plus.\n",
        "\"\"\"\n",
        "\n",
        "# Tokenize input text\n",
        "inputs = tokenizer(text, return_tensors=\"pt\", truncation=True)\n",
        "\n",
        "# Run inference\n",
        "with torch.no_grad():\n",
        "    outputs = model(**inputs)\n",
        "\n",
        "# Get the predicted token labels\n",
        "logits = outputs.logits\n",
        "predictions = torch.argmax(logits, dim=2)\n",
        "\n",
        "# Convert input IDs to tokens\n",
        "tokens = tokenizer.convert_ids_to_tokens(inputs[\"input_ids\"][0])\n",
        "predicted_labels = predictions[0].numpy()\n",
        "\n",
        "# Get label names from model's config\n",
        "id2label = model.config.id2label\n",
        "\n",
        "# Create a list of (token, label) pairs\n",
        "extracted_skills = []\n",
        "for token, label_id in zip(tokens, predicted_labels):\n",
        "    label = id2label[label_id]\n",
        "    if label != \"O\":  # 'O' means no entity\n",
        "        extracted_skills.append((token, label))\n",
        "\n",
        "# Now group tokens with the same label (for skills)\n",
        "grouped_skills = []\n",
        "current_skill = \"\"\n",
        "\n",
        "for token, label in extracted_skills:\n",
        "    if label == \"B-SKILL\":  # Start of a skill\n",
        "        if current_skill:\n",
        "            grouped_skills.append(current_skill)\n",
        "        current_skill = token\n",
        "    elif label == \"I-SKILL\":  # Continuation of a skill\n",
        "        current_skill += \" \" + token\n",
        "\n",
        "# Append the last skill\n",
        "if current_skill:\n",
        "    grouped_skills.append(current_skill)\n",
        "\n",
        "# Display grouped skills\n",
        "print(\"Grouped Extracted Skills:\")\n",
        "for skill in grouped_skills:\n",
        "    print(skill)\n"
      ],
      "metadata": {
        "trusted": true,
        "execution": {
          "iopub.status.busy": "2025-04-07T18:18:36.875464Z",
          "iopub.execute_input": "2025-04-07T18:18:36.875922Z",
          "iopub.status.idle": "2025-04-07T18:18:37.388086Z",
          "shell.execute_reply.started": "2025-04-07T18:18:36.875881Z",
          "shell.execute_reply": "2025-04-07T18:18:37.386620Z"
        },
        "colab": {
          "base_uri": "https://localhost:8080/"
        },
        "id": "hruQQvw6le0K",
        "outputId": "551642b2-c7e3-415c-8145-fed9abe11325"
      },
      "outputs": [
        {
          "output_type": "stream",
          "name": "stdout",
          "text": [
            "Grouped Extracted Skills:\n"
          ]
        }
      ],
      "execution_count": null
    },
    {
      "cell_type": "code",
      "source": [
        "from transformers import AutoTokenizer, AutoModelForTokenClassification\n",
        "import torch\n",
        "\n",
        "# Load model and tokenizer\n",
        "tokenizer = AutoTokenizer.from_pretrained(\"algiraldohe/lm-ner-linkedin-skills-recognition\")\n",
        "model = AutoModelForTokenClassification.from_pretrained(\"algiraldohe/lm-ner-linkedin-skills-recognition\")\n",
        "\n",
        "# Set model to evaluation mode\n",
        "model.eval()\n",
        "\n",
        "# Input text\n",
        "text = \"\"\"\n",
        "We are looking for a software engineer with experience in Python, machine learning, and cloud computing.\n",
        "Familiarity with Docker, Kubernetes, and RESTful APIs is a plus.\n",
        "\"\"\"\n",
        "\n",
        "# Tokenize input text\n",
        "inputs = tokenizer(text, return_tensors=\"pt\", truncation=True)\n",
        "\n",
        "# Run inference\n",
        "with torch.no_grad():\n",
        "    outputs = model(**inputs)\n",
        "\n",
        "# Get the predicted token labels\n",
        "logits = outputs.logits\n",
        "predictions = torch.argmax(logits, dim=2)\n",
        "\n",
        "# Convert input IDs to tokens\n",
        "tokens = tokenizer.convert_ids_to_tokens(inputs[\"input_ids\"][0])\n",
        "predicted_labels = predictions[0].numpy()\n",
        "\n",
        "# Get label names from model's config\n",
        "id2label = model.config.id2label\n",
        "\n",
        "# Create a list of (token, label) pairs\n",
        "extracted_skills = []\n",
        "for token, label_id in zip(tokens, predicted_labels):\n",
        "    label = id2label[label_id]\n",
        "    if label != \"O\":  # 'O' means no entity\n",
        "        # Fix the issue with subword tokens starting with '##'\n",
        "        if token.startswith(\"##\"):\n",
        "            token = token[2:]  # Remove the '##' prefix to merge subwords\n",
        "        extracted_skills.append((token, label))\n",
        "\n",
        "# Now group tokens with the same label (for skills)\n",
        "grouped_skills = []\n",
        "current_skill = \"\"\n",
        "\n",
        "for token, label in extracted_skills:\n",
        "    # Handling TECHNICAL and TECHNOLOGY skills\n",
        "    if label == \"B-TECHNICAL\" or label == \"B-TECHNOLOGY\":  # Start of a skill\n",
        "        if current_skill:\n",
        "            grouped_skills.append(current_skill)\n",
        "        current_skill = token\n",
        "    elif label == \"I-TECHNICAL\" or label == \"I-TECHNOLOGY\":  # Continuation of a skill\n",
        "        current_skill += \" \" + token\n",
        "\n",
        "# Append the last skill\n",
        "if current_skill:\n",
        "    grouped_skills.append(current_skill)\n",
        "\n",
        "# Display grouped skills\n",
        "print(\"Grouped Extracted Skills:\")\n",
        "for skill in grouped_skills:\n",
        "    print(skill)\n"
      ],
      "metadata": {
        "trusted": true,
        "execution": {
          "iopub.status.busy": "2025-04-07T18:23:21.284180Z",
          "iopub.execute_input": "2025-04-07T18:23:21.284542Z",
          "iopub.status.idle": "2025-04-07T18:23:22.331228Z",
          "shell.execute_reply.started": "2025-04-07T18:23:21.284512Z",
          "shell.execute_reply": "2025-04-07T18:23:22.329728Z"
        },
        "id": "AQ6KO_Dcle0L",
        "outputId": "ba035f02-b29d-49b0-f0da-54028ed2324d"
      },
      "outputs": [
        {
          "name": "stdout",
          "text": "Grouped Extracted Skills:\nsoftware\npython\nmachine learning\ncloud computing\nku ber net es\n",
          "output_type": "stream"
        }
      ],
      "execution_count": null
    },
    {
      "cell_type": "code",
      "source": [
        "from transformers import AutoTokenizer, AutoModelForTokenClassification\n",
        "import torch\n",
        "\n",
        "# Load model and tokenizer\n",
        "tokenizer = AutoTokenizer.from_pretrained(\"GalalEwida/lm-ner-skills-extractor_BERT\")\n",
        "model = AutoModelForTokenClassification.from_pretrained(\"GalalEwida/lm-ner-skills-extractor_BERT\")\n",
        "\n",
        "# Set model to evaluation mode\n",
        "model.eval()\n",
        "\n",
        "# Input text\n",
        "text = \"\"\"\n",
        "We are looking for a software engineer with experience in Python, machine learning, and cloud computing.\n",
        "Familiarity with Docker, Kubernetes, and RESTful APIs is a plus.\n",
        "\"\"\"\n",
        "\n",
        "# Tokenize input text\n",
        "inputs = tokenizer(text, return_tensors=\"pt\", truncation=True)\n",
        "\n",
        "# Run inference\n",
        "with torch.no_grad():\n",
        "    outputs = model(**inputs)\n",
        "\n",
        "# Get the predicted token labels\n",
        "logits = outputs.logits\n",
        "predictions = torch.argmax(logits, dim=2)\n",
        "\n",
        "# Convert input IDs to tokens\n",
        "tokens = tokenizer.convert_ids_to_tokens(inputs[\"input_ids\"][0])\n",
        "predicted_labels = predictions[0].numpy()\n",
        "\n",
        "# Get label names from model's config\n",
        "id2label = model.config.id2label\n",
        "\n",
        "# Create a list of (token, label) pairs\n",
        "extracted_skills = []\n",
        "for token, label_id in zip(tokens, predicted_labels):\n",
        "    label = id2label[label_id]\n",
        "    if label != \"O\":  # 'O' means no entity\n",
        "        # Fix the issue with subword tokens starting with '##'\n",
        "        if token.startswith(\"##\"):\n",
        "            token = token[2:]  # Remove the '##' prefix to merge subwords\n",
        "        extracted_skills.append((token, label))\n",
        "\n",
        "# # Now group tokens with the same label (for skills)\n",
        "# grouped_skills = []\n",
        "# current_skill = \"\"\n",
        "\n",
        "# for token, label in extracted_skills:\n",
        "#     if label == \"B-SKILL\":  # Start of a skill\n",
        "#         if current_skill:\n",
        "#             grouped_skills.append(current_skill)\n",
        "#         current_skill = token\n",
        "#     elif label == \"I-SKILL\":  # Continuation of a skill\n",
        "#         current_skill += \" \" + token\n",
        "\n",
        "# # Append the last skill\n",
        "# if current_skill:\n",
        "#     grouped_skills.append(current_skill)\n",
        "\n",
        "# # Display grouped skills\n",
        "# print(\"Grouped Extracted Skills:\")\n",
        "# for skill in grouped_skills:\n",
        "#     print(skill)\n",
        "for skill in extracted_skills:\n",
        "    print(skill)\n"
      ],
      "metadata": {
        "trusted": true,
        "execution": {
          "iopub.status.busy": "2025-04-07T18:28:50.114116Z",
          "iopub.execute_input": "2025-04-07T18:28:50.114429Z",
          "iopub.status.idle": "2025-04-07T18:28:50.495740Z",
          "shell.execute_reply.started": "2025-04-07T18:28:50.114404Z",
          "shell.execute_reply": "2025-04-07T18:28:50.494838Z"
        },
        "id": "CumH1yp8le0L",
        "outputId": "06975b8a-fa39-4bab-b93d-87dd334c8a96"
      },
      "outputs": [
        {
          "name": "stdout",
          "text": "('software', 'B-TECHNICAL')\n('Python', 'B-TECHNICAL')\n('machine', 'B-TECHNICAL')\n('learning', 'I-TECHNICAL')\n('cloud', 'B-TECHNICAL')\n('computing', 'I-TECHNICAL')\n",
          "output_type": "stream"
        }
      ],
      "execution_count": null
    },
    {
      "cell_type": "markdown",
      "source": [
        "# Fine tuning the model"
      ],
      "metadata": {
        "id": "qETd5Rkqle0M"
      }
    },
    {
      "cell_type": "markdown",
      "source": [
        "## Step 1 : Preprocess Initial json, add labels to skills"
      ],
      "metadata": {
        "id": "D-ok9_ZQle0M"
      }
    },
    {
      "cell_type": "code",
      "source": [
        "from transformers import BertTokenizerFast\n",
        "import json\n",
        "import re\n",
        "\n",
        "with open(\"job_descriptions_202.json\", \"r\") as f:\n",
        "    data = json.load(f)\n",
        "\n",
        "def label_tokens_lower(text, skills, tokenizer):\n",
        "    text = text.lower()\n",
        "    skills = [s.lower() for s in skills]\n",
        "\n",
        "    # Find character-level spans of each skill in the lowercased text\n",
        "    spans = []\n",
        "    for skill in skills:\n",
        "        for match in re.finditer(re.escape(skill), text):\n",
        "            spans.append((match.start(), match.end()))\n",
        "\n",
        "    # Tokenize the lowercased text\n",
        "    tokenized = tokenizer(text, return_offsets_mapping=True, add_special_tokens=False)\n",
        "    tokens = tokenized.tokens()\n",
        "    offsets = tokenized[\"offset_mapping\"]\n",
        "\n",
        "    labels = []\n",
        "    for (start, end) in offsets:\n",
        "        label = \"O\"\n",
        "        for s_start, s_end in spans:\n",
        "            if start >= s_start and end <= s_end:\n",
        "                label = \"B-TECHNICAL\" if start == s_start else \"I-TECHNICAL\"\n",
        "                break\n",
        "        labels.append(label)\n",
        "\n",
        "    return {\"tokens\": tokens, \"labels\": labels}\n",
        "\n",
        "# Process all job descriptions\n",
        "processed = [label_tokens_lower(ad[\"job_description\"], ad[\"skills\"], tokenizer) for ad in data]\n",
        "\n",
        "# Save as .json\n",
        "with open(\"processed_skills_datasets.json\", \"w\", encoding=\"utf-8\") as f:\n",
        "    json.dump(processed, f, indent=2, ensure_ascii=False)\n",
        "\n",
        "print(\"✅ Dataset saved to 'processed_skills_dataset.json' with lowercase tokenization and proper labeling.\")"
      ],
      "metadata": {
        "trusted": true,
        "execution": {
          "iopub.status.busy": "2025-04-10T11:04:03.429412Z",
          "iopub.execute_input": "2025-04-10T11:04:03.429766Z",
          "iopub.status.idle": "2025-04-10T11:04:03.489418Z",
          "shell.execute_reply.started": "2025-04-10T11:04:03.429735Z",
          "shell.execute_reply": "2025-04-10T11:04:03.488721Z"
        },
        "id": "F8MJbHvLle0M",
        "outputId": "1d3f5be8-9af0-4690-d414-7d2602b40685"
      },
      "outputs": [
        {
          "name": "stdout",
          "text": "✅ Dataset saved to 'processed_skills_dataset.json' with lowercase tokenization and proper labeling.\n",
          "output_type": "stream"
        }
      ],
      "execution_count": null
    },
    {
      "cell_type": "markdown",
      "source": [
        "## Step 2 : Load the preprocessed json and convert it to hugging face datasets format"
      ],
      "metadata": {
        "id": "QrdI07gSle0N"
      }
    },
    {
      "cell_type": "code",
      "source": [
        "from datasets import load_dataset\n",
        "\n",
        "# Load the dataset from the converted JSON file\n",
        "dataset = load_dataset(\"json\", data_files=\"/kaggle/input/job-desc/processed_skills_datasets.json\")\n"
      ],
      "metadata": {
        "trusted": true,
        "execution": {
          "iopub.status.busy": "2025-04-10T12:19:12.113624Z",
          "iopub.execute_input": "2025-04-10T12:19:12.113987Z",
          "iopub.status.idle": "2025-04-10T12:19:14.346052Z",
          "shell.execute_reply.started": "2025-04-10T12:19:12.113923Z",
          "shell.execute_reply": "2025-04-10T12:19:14.345224Z"
        },
        "colab": {
          "referenced_widgets": [
            "9d889fded35e467fa886dcbb2da7075f"
          ]
        },
        "id": "IC4tv0qvle0N",
        "outputId": "df64ad58-1c19-4808-ba92-31b73bedd7c6"
      },
      "outputs": [
        {
          "output_type": "display_data",
          "data": {
            "text/plain": "Generating train split: 0 examples [00:00, ? examples/s]",
            "application/vnd.jupyter.widget-view+json": {
              "version_major": 2,
              "version_minor": 0,
              "model_id": "9d889fded35e467fa886dcbb2da7075f"
            }
          },
          "metadata": {}
        }
      ],
      "execution_count": null
    },
    {
      "cell_type": "code",
      "source": [
        "dataset['train']"
      ],
      "metadata": {
        "trusted": true,
        "execution": {
          "iopub.status.busy": "2025-04-10T12:19:22.400086Z",
          "iopub.execute_input": "2025-04-10T12:19:22.400438Z",
          "iopub.status.idle": "2025-04-10T12:19:22.405526Z",
          "shell.execute_reply.started": "2025-04-10T12:19:22.400391Z",
          "shell.execute_reply": "2025-04-10T12:19:22.404783Z"
        },
        "id": "xyWnlD_9le0N",
        "outputId": "1bad787d-ba86-419d-be8e-eeb169c162e7"
      },
      "outputs": [
        {
          "execution_count": 2,
          "output_type": "execute_result",
          "data": {
            "text/plain": "Dataset({\n    features: ['tokens', 'labels'],\n    num_rows: 202\n})"
          },
          "metadata": {}
        }
      ],
      "execution_count": null
    },
    {
      "cell_type": "markdown",
      "source": [
        "## Step 3: Prepare Labels & Tokenizer"
      ],
      "metadata": {
        "id": "bzazRCWble0O"
      }
    },
    {
      "cell_type": "code",
      "source": [
        "from transformers import AutoTokenizer\n",
        "\n",
        "# Load model tokenizer\n",
        "tokenizer = AutoTokenizer.from_pretrained(\"GalalEwida/lm-ner-skills-extractor_BERT\")\n",
        "\n",
        "# Create a label list from the dataset\n",
        "label_list = sorted({label for row in dataset[\"train\"] for label in row[\"labels\"]})\n",
        "label2id = {label: i for i, label in enumerate(label_list)}\n",
        "id2label = {i: label for label, i in label2id.items()}\n"
      ],
      "metadata": {
        "trusted": true,
        "execution": {
          "iopub.status.busy": "2025-04-10T12:19:28.088831Z",
          "iopub.execute_input": "2025-04-10T12:19:28.089197Z",
          "iopub.status.idle": "2025-04-10T12:19:37.095791Z",
          "shell.execute_reply.started": "2025-04-10T12:19:28.089170Z",
          "shell.execute_reply": "2025-04-10T12:19:37.095146Z"
        },
        "colab": {
          "referenced_widgets": [
            "08100c7ce69641709b5308e7f8299c96",
            "a2d3bd15a13a49888f91d7a017621659",
            "470d75bbc7a44c158931373f3448ed16",
            "1957edf18c5b4f2794f85ff2c97937c7"
          ]
        },
        "id": "irlTGC9mle0O",
        "outputId": "4ccd5849-26e0-450a-9757-0f18b65e9132"
      },
      "outputs": [
        {
          "output_type": "display_data",
          "data": {
            "text/plain": "tokenizer_config.json:   0%|          | 0.00/1.19k [00:00<?, ?B/s]",
            "application/vnd.jupyter.widget-view+json": {
              "version_major": 2,
              "version_minor": 0,
              "model_id": "08100c7ce69641709b5308e7f8299c96"
            }
          },
          "metadata": {}
        },
        {
          "output_type": "display_data",
          "data": {
            "text/plain": "vocab.txt:   0%|          | 0.00/213k [00:00<?, ?B/s]",
            "application/vnd.jupyter.widget-view+json": {
              "version_major": 2,
              "version_minor": 0,
              "model_id": "a2d3bd15a13a49888f91d7a017621659"
            }
          },
          "metadata": {}
        },
        {
          "output_type": "display_data",
          "data": {
            "text/plain": "tokenizer.json:   0%|          | 0.00/669k [00:00<?, ?B/s]",
            "application/vnd.jupyter.widget-view+json": {
              "version_major": 2,
              "version_minor": 0,
              "model_id": "470d75bbc7a44c158931373f3448ed16"
            }
          },
          "metadata": {}
        },
        {
          "output_type": "display_data",
          "data": {
            "text/plain": "special_tokens_map.json:   0%|          | 0.00/125 [00:00<?, ?B/s]",
            "application/vnd.jupyter.widget-view+json": {
              "version_major": 2,
              "version_minor": 0,
              "model_id": "1957edf18c5b4f2794f85ff2c97937c7"
            }
          },
          "metadata": {}
        }
      ],
      "execution_count": null
    },
    {
      "cell_type": "code",
      "source": [
        "label_list"
      ],
      "metadata": {
        "trusted": true,
        "execution": {
          "iopub.status.busy": "2025-04-10T12:20:13.491567Z",
          "iopub.execute_input": "2025-04-10T12:20:13.492149Z",
          "iopub.status.idle": "2025-04-10T12:20:13.497112Z",
          "shell.execute_reply.started": "2025-04-10T12:20:13.492119Z",
          "shell.execute_reply": "2025-04-10T12:20:13.496370Z"
        },
        "id": "TnNRD5c7le0O",
        "outputId": "2375081b-43d1-419f-c2b5-42e690178b4b"
      },
      "outputs": [
        {
          "execution_count": 4,
          "output_type": "execute_result",
          "data": {
            "text/plain": "['B-TECHNICAL', 'I-TECHNICAL', 'O']"
          },
          "metadata": {}
        }
      ],
      "execution_count": null
    },
    {
      "cell_type": "markdown",
      "source": [
        "## Step 4: Tokenization & Label Alignment"
      ],
      "metadata": {
        "id": "khUd2lsnle0O"
      }
    },
    {
      "cell_type": "code",
      "source": [
        "def tokenize_and_align_labels(example):\n",
        "    tokenized_inputs = tokenizer(example[\"tokens\"], truncation=True, is_split_into_words=True)\n",
        "    word_ids = tokenized_inputs.word_ids()\n",
        "\n",
        "    labels = []\n",
        "    previous_word_idx = None\n",
        "    for word_idx in word_ids:\n",
        "        if word_idx is None:\n",
        "            labels.append(-100)\n",
        "        elif word_idx != previous_word_idx:\n",
        "            labels.append(label2id[example[\"labels\"][word_idx]])\n",
        "        else:\n",
        "            labels.append(label2id[example[\"labels\"][word_idx]])\n",
        "        previous_word_idx = word_idx\n",
        "\n",
        "    tokenized_inputs[\"labels\"] = labels\n",
        "    return tokenized_inputs\n",
        "\n",
        "# Apply to dataset\n",
        "tokenized_dataset = dataset.map(tokenize_and_align_labels, batched=False)\n"
      ],
      "metadata": {
        "trusted": true,
        "execution": {
          "iopub.status.busy": "2025-04-10T12:20:20.389389Z",
          "iopub.execute_input": "2025-04-10T12:20:20.389677Z",
          "iopub.status.idle": "2025-04-10T12:20:20.538971Z",
          "shell.execute_reply.started": "2025-04-10T12:20:20.389656Z",
          "shell.execute_reply": "2025-04-10T12:20:20.538131Z"
        },
        "colab": {
          "referenced_widgets": [
            "68f735b2e3b349b6a09a01189d0c3be6"
          ]
        },
        "id": "5dOHYZ9ble0P",
        "outputId": "cdba8f97-4122-4d3e-dde7-5f1b857fd3cd"
      },
      "outputs": [
        {
          "output_type": "display_data",
          "data": {
            "text/plain": "Map:   0%|          | 0/202 [00:00<?, ? examples/s]",
            "application/vnd.jupyter.widget-view+json": {
              "version_major": 2,
              "version_minor": 0,
              "model_id": "68f735b2e3b349b6a09a01189d0c3be6"
            }
          },
          "metadata": {}
        }
      ],
      "execution_count": null
    },
    {
      "cell_type": "code",
      "source": [
        "tokenized_dataset"
      ],
      "metadata": {
        "trusted": true,
        "execution": {
          "iopub.status.busy": "2025-04-10T12:20:25.323194Z",
          "iopub.execute_input": "2025-04-10T12:20:25.323523Z",
          "iopub.status.idle": "2025-04-10T12:20:25.328881Z",
          "shell.execute_reply.started": "2025-04-10T12:20:25.323495Z",
          "shell.execute_reply": "2025-04-10T12:20:25.327903Z"
        },
        "id": "EVL8ziwwle0P",
        "outputId": "ab9b0d29-4155-4d4d-ccf0-a6214ae4c0ea"
      },
      "outputs": [
        {
          "execution_count": 6,
          "output_type": "execute_result",
          "data": {
            "text/plain": "DatasetDict({\n    train: Dataset({\n        features: ['tokens', 'labels', 'input_ids', 'token_type_ids', 'attention_mask'],\n        num_rows: 202\n    })\n})"
          },
          "metadata": {}
        }
      ],
      "execution_count": null
    },
    {
      "cell_type": "code",
      "source": [
        "!pip install evaluate"
      ],
      "metadata": {
        "trusted": true,
        "execution": {
          "iopub.status.busy": "2025-04-10T12:20:30.030131Z",
          "iopub.execute_input": "2025-04-10T12:20:30.030432Z",
          "iopub.status.idle": "2025-04-10T12:20:34.461245Z",
          "shell.execute_reply.started": "2025-04-10T12:20:30.030409Z",
          "shell.execute_reply": "2025-04-10T12:20:34.460338Z"
        },
        "id": "2-wqXD79le0P",
        "outputId": "7807b874-e8ae-4e77-d285-1576d95ffc2a"
      },
      "outputs": [
        {
          "name": "stdout",
          "text": "Collecting evaluate\n  Downloading evaluate-0.4.3-py3-none-any.whl.metadata (9.2 kB)\nRequirement already satisfied: datasets>=2.0.0 in /usr/local/lib/python3.10/dist-packages (from evaluate) (3.3.1)\nRequirement already satisfied: numpy>=1.17 in /usr/local/lib/python3.10/dist-packages (from evaluate) (1.26.4)\nRequirement already satisfied: dill in /usr/local/lib/python3.10/dist-packages (from evaluate) (0.3.8)\nRequirement already satisfied: pandas in /usr/local/lib/python3.10/dist-packages (from evaluate) (2.2.3)\nRequirement already satisfied: requests>=2.19.0 in /usr/local/lib/python3.10/dist-packages (from evaluate) (2.32.3)\nRequirement already satisfied: tqdm>=4.62.1 in /usr/local/lib/python3.10/dist-packages (from evaluate) (4.67.1)\nRequirement already satisfied: xxhash in /usr/local/lib/python3.10/dist-packages (from evaluate) (3.5.0)\nRequirement already satisfied: multiprocess in /usr/local/lib/python3.10/dist-packages (from evaluate) (0.70.16)\nRequirement already satisfied: fsspec>=2021.05.0 in /usr/local/lib/python3.10/dist-packages (from fsspec[http]>=2021.05.0->evaluate) (2024.12.0)\nRequirement already satisfied: huggingface-hub>=0.7.0 in /usr/local/lib/python3.10/dist-packages (from evaluate) (0.29.0)\nRequirement already satisfied: packaging in /usr/local/lib/python3.10/dist-packages (from evaluate) (24.2)\nRequirement already satisfied: filelock in /usr/local/lib/python3.10/dist-packages (from datasets>=2.0.0->evaluate) (3.17.0)\nRequirement already satisfied: pyarrow>=15.0.0 in /usr/local/lib/python3.10/dist-packages (from datasets>=2.0.0->evaluate) (19.0.1)\nRequirement already satisfied: aiohttp in /usr/local/lib/python3.10/dist-packages (from datasets>=2.0.0->evaluate) (3.11.12)\nRequirement already satisfied: pyyaml>=5.1 in /usr/local/lib/python3.10/dist-packages (from datasets>=2.0.0->evaluate) (6.0.2)\nRequirement already satisfied: typing-extensions>=3.7.4.3 in /usr/local/lib/python3.10/dist-packages (from huggingface-hub>=0.7.0->evaluate) (4.12.2)\nRequirement already satisfied: mkl_fft in /usr/local/lib/python3.10/dist-packages (from numpy>=1.17->evaluate) (1.3.8)\nRequirement already satisfied: mkl_random in /usr/local/lib/python3.10/dist-packages (from numpy>=1.17->evaluate) (1.2.4)\nRequirement already satisfied: mkl_umath in /usr/local/lib/python3.10/dist-packages (from numpy>=1.17->evaluate) (0.1.1)\nRequirement already satisfied: mkl in /usr/local/lib/python3.10/dist-packages (from numpy>=1.17->evaluate) (2025.0.1)\nRequirement already satisfied: tbb4py in /usr/local/lib/python3.10/dist-packages (from numpy>=1.17->evaluate) (2022.0.0)\nRequirement already satisfied: mkl-service in /usr/local/lib/python3.10/dist-packages (from numpy>=1.17->evaluate) (2.4.1)\nRequirement already satisfied: charset-normalizer<4,>=2 in /usr/local/lib/python3.10/dist-packages (from requests>=2.19.0->evaluate) (3.4.1)\nRequirement already satisfied: idna<4,>=2.5 in /usr/local/lib/python3.10/dist-packages (from requests>=2.19.0->evaluate) (3.10)\nRequirement already satisfied: urllib3<3,>=1.21.1 in /usr/local/lib/python3.10/dist-packages (from requests>=2.19.0->evaluate) (2.3.0)\nRequirement already satisfied: certifi>=2017.4.17 in /usr/local/lib/python3.10/dist-packages (from requests>=2.19.0->evaluate) (2025.1.31)\nRequirement already satisfied: python-dateutil>=2.8.2 in /usr/local/lib/python3.10/dist-packages (from pandas->evaluate) (2.9.0.post0)\nRequirement already satisfied: pytz>=2020.1 in /usr/local/lib/python3.10/dist-packages (from pandas->evaluate) (2025.1)\nRequirement already satisfied: tzdata>=2022.7 in /usr/local/lib/python3.10/dist-packages (from pandas->evaluate) (2025.1)\nRequirement already satisfied: aiohappyeyeballs>=2.3.0 in /usr/local/lib/python3.10/dist-packages (from aiohttp->datasets>=2.0.0->evaluate) (2.4.6)\nRequirement already satisfied: aiosignal>=1.1.2 in /usr/local/lib/python3.10/dist-packages (from aiohttp->datasets>=2.0.0->evaluate) (1.3.2)\nRequirement already satisfied: async-timeout<6.0,>=4.0 in /usr/local/lib/python3.10/dist-packages (from aiohttp->datasets>=2.0.0->evaluate) (5.0.1)\nRequirement already satisfied: attrs>=17.3.0 in /usr/local/lib/python3.10/dist-packages (from aiohttp->datasets>=2.0.0->evaluate) (25.1.0)\nRequirement already satisfied: frozenlist>=1.1.1 in /usr/local/lib/python3.10/dist-packages (from aiohttp->datasets>=2.0.0->evaluate) (1.5.0)\nRequirement already satisfied: multidict<7.0,>=4.5 in /usr/local/lib/python3.10/dist-packages (from aiohttp->datasets>=2.0.0->evaluate) (6.1.0)\nRequirement already satisfied: propcache>=0.2.0 in /usr/local/lib/python3.10/dist-packages (from aiohttp->datasets>=2.0.0->evaluate) (0.2.1)\nRequirement already satisfied: yarl<2.0,>=1.17.0 in /usr/local/lib/python3.10/dist-packages (from aiohttp->datasets>=2.0.0->evaluate) (1.18.3)\nRequirement already satisfied: six>=1.5 in /usr/local/lib/python3.10/dist-packages (from python-dateutil>=2.8.2->pandas->evaluate) (1.17.0)\nRequirement already satisfied: intel-openmp>=2024 in /usr/local/lib/python3.10/dist-packages (from mkl->numpy>=1.17->evaluate) (2024.2.0)\nRequirement already satisfied: tbb==2022.* in /usr/local/lib/python3.10/dist-packages (from mkl->numpy>=1.17->evaluate) (2022.0.0)\nRequirement already satisfied: tcmlib==1.* in /usr/local/lib/python3.10/dist-packages (from tbb==2022.*->mkl->numpy>=1.17->evaluate) (1.2.0)\nRequirement already satisfied: intel-cmplr-lib-rt in /usr/local/lib/python3.10/dist-packages (from mkl_umath->numpy>=1.17->evaluate) (2024.2.0)\nRequirement already satisfied: intel-cmplr-lib-ur==2024.2.0 in /usr/local/lib/python3.10/dist-packages (from intel-openmp>=2024->mkl->numpy>=1.17->evaluate) (2024.2.0)\nDownloading evaluate-0.4.3-py3-none-any.whl (84 kB)\n\u001b[2K   \u001b[90m━━━━━━━━━━━━━━━━━━━━━━━━━━━━━━━━━━━━━━━━\u001b[0m \u001b[32m84.0/84.0 kB\u001b[0m \u001b[31m3.4 MB/s\u001b[0m eta \u001b[36m0:00:00\u001b[0m\n\u001b[?25hInstalling collected packages: evaluate\nSuccessfully installed evaluate-0.4.3\n",
          "output_type": "stream"
        }
      ],
      "execution_count": null
    },
    {
      "cell_type": "code",
      "source": [
        "!pip install seqeval"
      ],
      "metadata": {
        "trusted": true,
        "execution": {
          "iopub.status.busy": "2025-04-10T12:20:34.462561Z",
          "iopub.execute_input": "2025-04-10T12:20:34.462875Z",
          "iopub.status.idle": "2025-04-10T12:20:40.388338Z",
          "shell.execute_reply.started": "2025-04-10T12:20:34.462850Z",
          "shell.execute_reply": "2025-04-10T12:20:40.387438Z"
        },
        "id": "XzqU9ublle0P",
        "outputId": "5c4ac4a8-a0b0-4cd8-e512-56ee7ab583df"
      },
      "outputs": [
        {
          "name": "stdout",
          "text": "Collecting seqeval\n  Downloading seqeval-1.2.2.tar.gz (43 kB)\n\u001b[2K     \u001b[90m━━━━━━━━━━━━━━━━━━━━━━━━━━━━━━━━━━━━━━━━\u001b[0m \u001b[32m43.6/43.6 kB\u001b[0m \u001b[31m2.2 MB/s\u001b[0m eta \u001b[36m0:00:00\u001b[0m\n\u001b[?25h  Preparing metadata (setup.py) ... \u001b[?25l\u001b[?25hdone\nRequirement already satisfied: numpy>=1.14.0 in /usr/local/lib/python3.10/dist-packages (from seqeval) (1.26.4)\nRequirement already satisfied: scikit-learn>=0.21.3 in /usr/local/lib/python3.10/dist-packages (from seqeval) (1.2.2)\nRequirement already satisfied: mkl_fft in /usr/local/lib/python3.10/dist-packages (from numpy>=1.14.0->seqeval) (1.3.8)\nRequirement already satisfied: mkl_random in /usr/local/lib/python3.10/dist-packages (from numpy>=1.14.0->seqeval) (1.2.4)\nRequirement already satisfied: mkl_umath in /usr/local/lib/python3.10/dist-packages (from numpy>=1.14.0->seqeval) (0.1.1)\nRequirement already satisfied: mkl in /usr/local/lib/python3.10/dist-packages (from numpy>=1.14.0->seqeval) (2025.0.1)\nRequirement already satisfied: tbb4py in /usr/local/lib/python3.10/dist-packages (from numpy>=1.14.0->seqeval) (2022.0.0)\nRequirement already satisfied: mkl-service in /usr/local/lib/python3.10/dist-packages (from numpy>=1.14.0->seqeval) (2.4.1)\nRequirement already satisfied: scipy>=1.3.2 in /usr/local/lib/python3.10/dist-packages (from scikit-learn>=0.21.3->seqeval) (1.13.1)\nRequirement already satisfied: joblib>=1.1.1 in /usr/local/lib/python3.10/dist-packages (from scikit-learn>=0.21.3->seqeval) (1.4.2)\nRequirement already satisfied: threadpoolctl>=2.0.0 in /usr/local/lib/python3.10/dist-packages (from scikit-learn>=0.21.3->seqeval) (3.5.0)\nRequirement already satisfied: intel-openmp>=2024 in /usr/local/lib/python3.10/dist-packages (from mkl->numpy>=1.14.0->seqeval) (2024.2.0)\nRequirement already satisfied: tbb==2022.* in /usr/local/lib/python3.10/dist-packages (from mkl->numpy>=1.14.0->seqeval) (2022.0.0)\nRequirement already satisfied: tcmlib==1.* in /usr/local/lib/python3.10/dist-packages (from tbb==2022.*->mkl->numpy>=1.14.0->seqeval) (1.2.0)\nRequirement already satisfied: intel-cmplr-lib-rt in /usr/local/lib/python3.10/dist-packages (from mkl_umath->numpy>=1.14.0->seqeval) (2024.2.0)\nRequirement already satisfied: intel-cmplr-lib-ur==2024.2.0 in /usr/local/lib/python3.10/dist-packages (from intel-openmp>=2024->mkl->numpy>=1.14.0->seqeval) (2024.2.0)\nBuilding wheels for collected packages: seqeval\n  Building wheel for seqeval (setup.py) ... \u001b[?25l\u001b[?25hdone\n  Created wheel for seqeval: filename=seqeval-1.2.2-py3-none-any.whl size=16161 sha256=7b31fd67fb4aa0b592b25e9627c7cf36aee355ced087a2bd216741dea98a6aae\n  Stored in directory: /root/.cache/pip/wheels/1a/67/4a/ad4082dd7dfc30f2abfe4d80a2ed5926a506eb8a972b4767fa\nSuccessfully built seqeval\nInstalling collected packages: seqeval\nSuccessfully installed seqeval-1.2.2\n",
          "output_type": "stream"
        }
      ],
      "execution_count": null
    },
    {
      "cell_type": "markdown",
      "source": [
        "## Step 5 : Setup model training with Trainer, initialize the model, the data collator, evaluation metrics, training arguments"
      ],
      "metadata": {
        "id": "mxSLmGp2le0P"
      }
    },
    {
      "cell_type": "code",
      "source": [
        "from transformers import AutoModelForTokenClassification, TrainingArguments, Trainer, DataCollatorForTokenClassification\n",
        "from transformers import EarlyStoppingCallback\n",
        "import numpy as np\n",
        "import evaluate\n",
        "model = AutoModelForTokenClassification.from_pretrained(\n",
        "    \"GalalEwida/lm-ner-skills-extractor_BERT\",\n",
        "    num_labels=len(label_list),\n",
        "    id2label=id2label,\n",
        "    label2id=label2id,\n",
        "    ignore_mismatched_sizes=True\n",
        ")\n",
        "\n",
        "data_collator = DataCollatorForTokenClassification(tokenizer)\n",
        "metric = evaluate.load(\"seqeval\")\n",
        "\n",
        "def compute_metrics(p):\n",
        "    predictions, labels = p\n",
        "    predictions = np.argmax(predictions, axis=2)\n",
        "\n",
        "    true_labels = [[id2label[l] for l in label if l != -100] for label in labels]\n",
        "    true_predictions = [\n",
        "        [id2label[p] for (p, l) in zip(pred, label) if l != -100]\n",
        "        for pred, label in zip(predictions, labels)\n",
        "    ]\n",
        "\n",
        "    results = metric.compute(predictions=true_predictions, references=true_labels)\n",
        "    return {\n",
        "        \"precision\": results[\"overall_precision\"],\n",
        "        \"recall\": results[\"overall_recall\"],\n",
        "        \"f1\": results[\"overall_f1\"],\n",
        "        \"accuracy\": results[\"overall_accuracy\"],\n",
        "    }\n",
        "training_args = TrainingArguments(\n",
        "    output_dir=\"/kaggle/working/skill-ner-model\",\n",
        "    evaluation_strategy=\"epoch\",\n",
        "    save_strategy=\"epoch\",\n",
        "    logging_strategy=\"steps\",\n",
        "    learning_rate=2e-5,\n",
        "    per_device_train_batch_size=8,\n",
        "    per_device_eval_batch_size=8,\n",
        "    num_train_epochs=10,\n",
        "    weight_decay=0.01,\n",
        "    logging_dir=\"./logs\",\n",
        "    logging_steps=10,\n",
        "    load_best_model_at_end=True,\n",
        "    metric_for_best_model=\"f1\",\n",
        "    save_total_limit=2,\n",
        "    report_to=\"none\",\n",
        ")\n"
      ],
      "metadata": {
        "trusted": true,
        "execution": {
          "iopub.status.busy": "2025-04-10T12:25:47.865423Z",
          "iopub.execute_input": "2025-04-10T12:25:47.865808Z",
          "iopub.status.idle": "2025-04-10T12:26:08.651139Z",
          "shell.execute_reply.started": "2025-04-10T12:25:47.865779Z",
          "shell.execute_reply": "2025-04-10T12:26:08.649996Z"
        },
        "colab": {
          "referenced_widgets": [
            "a78634757fba4d1d98252e777187e1df",
            "258e661598bd4a61a517f8d0f123f402",
            "00d8a086e8034c4384cc3999b5d17fc7"
          ]
        },
        "id": "P1NI7orjle0Q",
        "outputId": "8e1d8a18-7d7e-41d5-eaeb-27eeff4ba7e2"
      },
      "outputs": [
        {
          "output_type": "display_data",
          "data": {
            "text/plain": "config.json:   0%|          | 0.00/1.07k [00:00<?, ?B/s]",
            "application/vnd.jupyter.widget-view+json": {
              "version_major": 2,
              "version_minor": 0,
              "model_id": "a78634757fba4d1d98252e777187e1df"
            }
          },
          "metadata": {}
        },
        {
          "output_type": "display_data",
          "data": {
            "text/plain": "model.safetensors:   0%|          | 0.00/431M [00:00<?, ?B/s]",
            "application/vnd.jupyter.widget-view+json": {
              "version_major": 2,
              "version_minor": 0,
              "model_id": "258e661598bd4a61a517f8d0f123f402"
            }
          },
          "metadata": {}
        },
        {
          "name": "stderr",
          "text": "Some weights of BertForTokenClassification were not initialized from the model checkpoint at GalalEwida/lm-ner-skills-extractor_BERT and are newly initialized because the shapes did not match:\n- classifier.bias: found shape torch.Size([9]) in the checkpoint and torch.Size([3]) in the model instantiated\n- classifier.weight: found shape torch.Size([9, 768]) in the checkpoint and torch.Size([3, 768]) in the model instantiated\nYou should probably TRAIN this model on a down-stream task to be able to use it for predictions and inference.\n",
          "output_type": "stream"
        },
        {
          "output_type": "display_data",
          "data": {
            "text/plain": "Downloading builder script:   0%|          | 0.00/6.34k [00:00<?, ?B/s]",
            "application/vnd.jupyter.widget-view+json": {
              "version_major": 2,
              "version_minor": 0,
              "model_id": "00d8a086e8034c4384cc3999b5d17fc7"
            }
          },
          "metadata": {}
        },
        {
          "name": "stderr",
          "text": "/usr/local/lib/python3.10/dist-packages/transformers/training_args.py:1575: FutureWarning: `evaluation_strategy` is deprecated and will be removed in version 4.46 of 🤗 Transformers. Use `eval_strategy` instead\n  warnings.warn(\n",
          "output_type": "stream"
        }
      ],
      "execution_count": null
    },
    {
      "cell_type": "code",
      "source": [
        "early_stopping = EarlyStoppingCallback(early_stopping_patience=2)"
      ],
      "metadata": {
        "trusted": true,
        "execution": {
          "iopub.status.busy": "2025-04-10T12:26:15.806769Z",
          "iopub.execute_input": "2025-04-10T12:26:15.807396Z",
          "iopub.status.idle": "2025-04-10T12:26:15.811255Z",
          "shell.execute_reply.started": "2025-04-10T12:26:15.807367Z",
          "shell.execute_reply": "2025-04-10T12:26:15.810521Z"
        },
        "id": "T-NfQvTfle0Q"
      },
      "outputs": [],
      "execution_count": null
    },
    {
      "cell_type": "code",
      "source": [
        "model.config.id2label\n"
      ],
      "metadata": {
        "trusted": true,
        "execution": {
          "iopub.status.busy": "2025-04-10T12:26:17.345369Z",
          "iopub.execute_input": "2025-04-10T12:26:17.345675Z",
          "iopub.status.idle": "2025-04-10T12:26:17.350565Z",
          "shell.execute_reply.started": "2025-04-10T12:26:17.345651Z",
          "shell.execute_reply": "2025-04-10T12:26:17.349915Z"
        },
        "id": "ZYG1cIF_le0Q",
        "outputId": "acf1c9eb-4bd7-4b8b-f63c-0d053f870f2d"
      },
      "outputs": [
        {
          "execution_count": 12,
          "output_type": "execute_result",
          "data": {
            "text/plain": "{0: 'B-TECHNICAL', 1: 'I-TECHNICAL', 2: 'O'}"
          },
          "metadata": {}
        }
      ],
      "execution_count": null
    },
    {
      "cell_type": "markdown",
      "source": [
        "## Step 6 : Split dataset"
      ],
      "metadata": {
        "id": "khxIckU3le0Q"
      }
    },
    {
      "cell_type": "code",
      "source": [
        "tokenized_dataset = tokenized_dataset[\"train\"].train_test_split(test_size=0.2)\n"
      ],
      "metadata": {
        "trusted": true,
        "execution": {
          "iopub.status.busy": "2025-04-10T12:26:22.669409Z",
          "iopub.execute_input": "2025-04-10T12:26:22.669745Z",
          "iopub.status.idle": "2025-04-10T12:26:22.691971Z",
          "shell.execute_reply.started": "2025-04-10T12:26:22.669715Z",
          "shell.execute_reply": "2025-04-10T12:26:22.691230Z"
        },
        "id": "hSZ4Bjwjle0Q"
      },
      "outputs": [],
      "execution_count": null
    },
    {
      "cell_type": "markdown",
      "source": [
        "## Step 7 : Initialize Trainer"
      ],
      "metadata": {
        "id": "32ZN8Ryvle0Q"
      }
    },
    {
      "cell_type": "code",
      "source": [
        "trainer = Trainer(\n",
        "    model=model,\n",
        "    args=training_args,\n",
        "    train_dataset=tokenized_dataset[\"train\"],\n",
        "    eval_dataset=tokenized_dataset[\"test\"],\n",
        "    tokenizer=tokenizer,\n",
        "    data_collator=data_collator,\n",
        "    compute_metrics=compute_metrics,\n",
        "    callbacks=[early_stopping],\n",
        ")\n"
      ],
      "metadata": {
        "trusted": true,
        "execution": {
          "iopub.status.busy": "2025-04-10T12:26:37.959222Z",
          "iopub.execute_input": "2025-04-10T12:26:37.959533Z",
          "iopub.status.idle": "2025-04-10T12:26:38.287040Z",
          "shell.execute_reply.started": "2025-04-10T12:26:37.959509Z",
          "shell.execute_reply": "2025-04-10T12:26:38.286031Z"
        },
        "id": "Kb-ekf6ile0R",
        "outputId": "80876d36-49ca-4364-b67c-8317158cb7aa"
      },
      "outputs": [
        {
          "name": "stderr",
          "text": "<ipython-input-14-2f82a78caa58>:1: FutureWarning: `tokenizer` is deprecated and will be removed in version 5.0.0 for `Trainer.__init__`. Use `processing_class` instead.\n  trainer = Trainer(\n",
          "output_type": "stream"
        }
      ],
      "execution_count": null
    },
    {
      "cell_type": "markdown",
      "source": [
        "## Step 8 : Train the model"
      ],
      "metadata": {
        "id": "90xxLKHBle0R"
      }
    },
    {
      "cell_type": "code",
      "source": [
        "trainer.train()"
      ],
      "metadata": {
        "trusted": true,
        "execution": {
          "iopub.status.busy": "2025-04-10T12:26:44.119129Z",
          "iopub.execute_input": "2025-04-10T12:26:44.119426Z",
          "iopub.status.idle": "2025-04-10T12:27:35.214700Z",
          "shell.execute_reply.started": "2025-04-10T12:26:44.119404Z",
          "shell.execute_reply": "2025-04-10T12:27:35.214004Z"
        },
        "id": "DZAHdZ1Wle0R",
        "outputId": "40a02595-0231-4b25-c43b-6078cc61bdd2"
      },
      "outputs": [
        {
          "output_type": "display_data",
          "data": {
            "text/plain": "<IPython.core.display.HTML object>",
            "text/html": "\n    <div>\n      \n      <progress value='210' max='210' style='width:300px; height:20px; vertical-align: middle;'></progress>\n      [210/210 00:49, Epoch 10/10]\n    </div>\n    <table border=\"1\" class=\"dataframe\">\n  <thead>\n <tr style=\"text-align: left;\">\n      <th>Epoch</th>\n      <th>Training Loss</th>\n      <th>Validation Loss</th>\n      <th>Precision</th>\n      <th>Recall</th>\n      <th>F1</th>\n      <th>Accuracy</th>\n    </tr>\n  </thead>\n  <tbody>\n    <tr>\n      <td>1</td>\n      <td>0.370600</td>\n      <td>0.369704</td>\n      <td>0.361111</td>\n      <td>0.490566</td>\n      <td>0.416000</td>\n      <td>0.830415</td>\n    </tr>\n    <tr>\n      <td>2</td>\n      <td>0.204100</td>\n      <td>0.242304</td>\n      <td>0.500000</td>\n      <td>0.632075</td>\n      <td>0.558333</td>\n      <td>0.902951</td>\n    </tr>\n    <tr>\n      <td>3</td>\n      <td>0.166300</td>\n      <td>0.183411</td>\n      <td>0.627907</td>\n      <td>0.764151</td>\n      <td>0.689362</td>\n      <td>0.936468</td>\n    </tr>\n    <tr>\n      <td>4</td>\n      <td>0.119900</td>\n      <td>0.174524</td>\n      <td>0.664062</td>\n      <td>0.801887</td>\n      <td>0.726496</td>\n      <td>0.931466</td>\n    </tr>\n    <tr>\n      <td>5</td>\n      <td>0.066800</td>\n      <td>0.168868</td>\n      <td>0.716667</td>\n      <td>0.811321</td>\n      <td>0.761062</td>\n      <td>0.941971</td>\n    </tr>\n    <tr>\n      <td>6</td>\n      <td>0.066300</td>\n      <td>0.138006</td>\n      <td>0.726562</td>\n      <td>0.877358</td>\n      <td>0.794872</td>\n      <td>0.959480</td>\n    </tr>\n    <tr>\n      <td>7</td>\n      <td>0.044200</td>\n      <td>0.114481</td>\n      <td>0.805085</td>\n      <td>0.896226</td>\n      <td>0.848214</td>\n      <td>0.967984</td>\n    </tr>\n    <tr>\n      <td>8</td>\n      <td>0.024100</td>\n      <td>0.132306</td>\n      <td>0.780488</td>\n      <td>0.905660</td>\n      <td>0.838428</td>\n      <td>0.960980</td>\n    </tr>\n    <tr>\n      <td>9</td>\n      <td>0.031500</td>\n      <td>0.124025</td>\n      <td>0.798319</td>\n      <td>0.896226</td>\n      <td>0.844444</td>\n      <td>0.967484</td>\n    </tr>\n    <tr>\n      <td>10</td>\n      <td>0.031200</td>\n      <td>0.130429</td>\n      <td>0.793388</td>\n      <td>0.905660</td>\n      <td>0.845815</td>\n      <td>0.963982</td>\n    </tr>\n  </tbody>\n</table><p>"
          },
          "metadata": {}
        },
        {
          "execution_count": 15,
          "output_type": "execute_result",
          "data": {
            "text/plain": "TrainOutput(global_step=210, training_loss=0.11937544771603176, metrics={'train_runtime': 50.7623, 'train_samples_per_second': 31.716, 'train_steps_per_second': 4.137, 'total_flos': 66032635006854.0, 'train_loss': 0.11937544771603176, 'epoch': 10.0})"
          },
          "metadata": {}
        }
      ],
      "execution_count": null
    },
    {
      "cell_type": "code",
      "source": [
        "trainer.save_model(\"./kaggle/working/final_skill_model\")\n",
        "tokenizer.save_pretrained(\"./kaggle/working/final_skill_model\")"
      ],
      "metadata": {
        "trusted": true,
        "execution": {
          "iopub.status.busy": "2025-04-10T12:30:59.338726Z",
          "iopub.execute_input": "2025-04-10T12:30:59.339110Z",
          "iopub.status.idle": "2025-04-10T12:31:00.361922Z",
          "shell.execute_reply.started": "2025-04-10T12:30:59.339076Z",
          "shell.execute_reply": "2025-04-10T12:31:00.361183Z"
        },
        "id": "B85rGi5ule0R",
        "outputId": "ff0ab358-ce58-4565-a483-cc09239922d5"
      },
      "outputs": [
        {
          "execution_count": 25,
          "output_type": "execute_result",
          "data": {
            "text/plain": "('./kaggle/working/final_skill_model/tokenizer_config.json',\n './kaggle/working/final_skill_model/special_tokens_map.json',\n './kaggle/working/final_skill_model/vocab.txt',\n './kaggle/working/final_skill_model/added_tokens.json',\n './kaggle/working/final_skill_model/tokenizer.json')"
          },
          "metadata": {}
        }
      ],
      "execution_count": null
    },
    {
      "cell_type": "markdown",
      "source": [
        "## Step 9 : Test the model through inference"
      ],
      "metadata": {
        "id": "EvwhGL7Ole0S"
      }
    },
    {
      "cell_type": "code",
      "source": [
        "def tokenize_input(text):\n",
        "    return tokenizer(\n",
        "        text,\n",
        "        return_tensors=\"pt\",\n",
        "        truncation=True,\n",
        "        is_split_into_words=False\n",
        "    )\n"
      ],
      "metadata": {
        "trusted": true,
        "execution": {
          "iopub.status.busy": "2025-04-10T12:28:08.805583Z",
          "iopub.execute_input": "2025-04-10T12:28:08.805908Z",
          "iopub.status.idle": "2025-04-10T12:28:08.810125Z",
          "shell.execute_reply.started": "2025-04-10T12:28:08.805882Z",
          "shell.execute_reply": "2025-04-10T12:28:08.809126Z"
        },
        "id": "Xige2oFyle0S"
      },
      "outputs": [],
      "execution_count": null
    },
    {
      "cell_type": "code",
      "source": [
        "import torch\n",
        "def extract_skills(text):\n",
        "    # Move the model to GPU if available\n",
        "    device = torch.device(\"cuda\" if torch.cuda.is_available() else \"cpu\")\n",
        "    trainer.model.to(device)  # Ensure the model is on the correct device\n",
        "\n",
        "    # Tokenize input\n",
        "    inputs = tokenize_input(text)\n",
        "\n",
        "    # Move input tensors to the same device as the model\n",
        "    inputs = {key: value.to(device) for key, value in inputs.items()}\n",
        "\n",
        "    # Run the model on the input\n",
        "    outputs = trainer.model(**inputs)\n",
        "\n",
        "    # Get predictions\n",
        "    predictions = torch.argmax(outputs.logits, dim=2)\n",
        "\n",
        "    # Convert tokens to words and predictions to labels\n",
        "    tokens = tokenizer.convert_ids_to_tokens(inputs[\"input_ids\"][0])\n",
        "    prediction_labels = [label_list[pred.item()] for pred in predictions[0]]\n",
        "\n",
        "    # Extract skills based on the B- and I- labels\n",
        "    skills = []\n",
        "    current_skill = []\n",
        "\n",
        "    for token, label in zip(tokens, prediction_labels):\n",
        "        if label.startswith(\"B-\"):\n",
        "            if current_skill:\n",
        "                skills.append(\" \".join(current_skill))\n",
        "                current_skill = []\n",
        "            current_skill.append(token)\n",
        "        elif label.startswith(\"I-\") and current_skill:\n",
        "            current_skill.append(token)\n",
        "        else:\n",
        "            if current_skill:\n",
        "                skills.append(\" \".join(current_skill))\n",
        "                current_skill = []\n",
        "\n",
        "    if current_skill:\n",
        "        skills.append(\" \".join(current_skill))\n",
        "\n",
        "    # Clean up tokens (remove ## and fix spacing)\n",
        "    clean_skills = [tokenizer.convert_tokens_to_string(skill.split()) for skill in skills]\n",
        "    return clean_skills\n"
      ],
      "metadata": {
        "trusted": true,
        "execution": {
          "iopub.status.busy": "2025-04-10T12:28:51.787229Z",
          "iopub.execute_input": "2025-04-10T12:28:51.787528Z",
          "iopub.status.idle": "2025-04-10T12:28:51.794741Z",
          "shell.execute_reply.started": "2025-04-10T12:28:51.787507Z",
          "shell.execute_reply": "2025-04-10T12:28:51.793825Z"
        },
        "id": "AxBCGqMple0S"
      },
      "outputs": [],
      "execution_count": null
    },
    {
      "cell_type": "code",
      "source": [
        "text = \"Experienced in Python, React Native, and machine learning using PyTorch and TensorFlow.\"\n",
        "print(extract_skills(text.lower()))\n"
      ],
      "metadata": {
        "trusted": true,
        "execution": {
          "iopub.status.busy": "2025-04-10T12:28:52.840299Z",
          "iopub.execute_input": "2025-04-10T12:28:52.840589Z",
          "iopub.status.idle": "2025-04-10T12:28:52.873063Z",
          "shell.execute_reply.started": "2025-04-10T12:28:52.840568Z",
          "shell.execute_reply": "2025-04-10T12:28:52.872375Z"
        },
        "id": "LjITUN7Tle0T",
        "outputId": "3fdc4dfb-541b-4411-eb7c-479e6159e037"
      },
      "outputs": [
        {
          "name": "stdout",
          "text": "['python', 'react native', 'machine learning', 'pytorch', 'tensorflow']\n",
          "output_type": "stream"
        }
      ],
      "execution_count": null
    },
    {
      "cell_type": "code",
      "source": [
        "text1=\"We are looking for an experienced Full Stack Developer to join our team. The ideal candidate should have expertise in frontend technologies such as React and Angular, as well as backend development with Node.js and Python. Knowledge of database management systems like MySQL and MongoDB is essential. Additionally, experience in cloud services (e.g., AWS, Azure) and containerization (e.g., Docker, Kubernetes) is highly desirable. The candidate should also be familiar with RESTful APIs, GraphQL, and have hands-on experience in DevOps practices. A solid understanding of agile methodologies, version control systems (e.g., Git), and unit testing frameworks (e.g., Jest, Mocha) will be a plus.We expect the candidate to be comfortable working in CI/CD pipelines and to have experience in monitoring and debugging applications in production environments.\""
      ],
      "metadata": {
        "trusted": true,
        "execution": {
          "iopub.status.busy": "2025-04-10T12:29:27.736473Z",
          "iopub.execute_input": "2025-04-10T12:29:27.736815Z",
          "iopub.status.idle": "2025-04-10T12:29:27.740553Z",
          "shell.execute_reply.started": "2025-04-10T12:29:27.736788Z",
          "shell.execute_reply": "2025-04-10T12:29:27.739729Z"
        },
        "id": "aSLgQdCZle0T"
      },
      "outputs": [],
      "execution_count": null
    },
    {
      "cell_type": "code",
      "source": [
        "print(extract_skills(text1.lower()))"
      ],
      "metadata": {
        "trusted": true,
        "execution": {
          "iopub.status.busy": "2025-04-10T12:29:28.898492Z",
          "iopub.execute_input": "2025-04-10T12:29:28.898786Z",
          "iopub.status.idle": "2025-04-10T12:29:28.925688Z",
          "shell.execute_reply.started": "2025-04-10T12:29:28.898764Z",
          "shell.execute_reply": "2025-04-10T12:29:28.925022Z"
        },
        "id": "JR7SSndkle0T",
        "outputId": "d2b88895-d506-4b86-a45f-c8d50bea739f"
      },
      "outputs": [
        {
          "name": "stdout",
          "text": "['react', 'angular', 'node. js', 'python', 'database management', 'mysql', 'mongodb', 'cloud services', 'aws', 'containerization', 'docker', 'kubernetes', 'graphql', 'devops', 'version control', 'git', 'unit testing', 'jest', 'mocha', 'ci', 'cd pipelines', 'debugging']\n",
          "output_type": "stream"
        }
      ],
      "execution_count": null
    },
    {
      "cell_type": "code",
      "source": [
        "print(extract_skills(text1.lower()))\n"
      ],
      "metadata": {
        "trusted": true,
        "execution": {
          "iopub.status.busy": "2025-04-10T11:58:14.563717Z",
          "iopub.execute_input": "2025-04-10T11:58:14.564044Z",
          "iopub.status.idle": "2025-04-10T11:58:14.594064Z",
          "shell.execute_reply.started": "2025-04-10T11:58:14.564017Z",
          "shell.execute_reply": "2025-04-10T11:58:14.593385Z"
        },
        "id": "HEUz12Fsle0T",
        "outputId": "d2fe6627-af87-490d-bef8-07967e3b38c2"
      },
      "outputs": [
        {
          "name": "stdout",
          "text": "['angular', 'python', 'database', 'mysql', 'mongodb', 'cloud services', 'aws', 'containerization', 'kubernetes', 'graphql', 'devops', 'version control', 'git', 'unit testing', 'ci', 'cd pipelines', 'debugging']\n",
          "output_type": "stream"
        }
      ],
      "execution_count": null
    },
    {
      "cell_type": "code",
      "source": [
        "text2=\"Looking for a talented full-stack developer with experience in React, Node.js, Express, and MongoDB to build and maintain web applications. You should be proficient in JavaScript, HTML5, CSS3, and RESTful APIs. Experience with AWS, Docker, and Kubernetes is a plus. Familiarity with version control systems like Git is required. Knowledge of Agile methodologies, CI/CD pipelines, and testing frameworks like Jest or Mocha is essential.\""
      ],
      "metadata": {
        "trusted": true,
        "execution": {
          "iopub.status.busy": "2025-04-10T12:30:11.308547Z",
          "iopub.execute_input": "2025-04-10T12:30:11.308869Z",
          "iopub.status.idle": "2025-04-10T12:30:11.312701Z",
          "shell.execute_reply.started": "2025-04-10T12:30:11.308845Z",
          "shell.execute_reply": "2025-04-10T12:30:11.311734Z"
        },
        "id": "S1nVfvlMle0U"
      },
      "outputs": [],
      "execution_count": null
    },
    {
      "cell_type": "code",
      "source": [
        "print(extract_skills(text2.lower()))\n"
      ],
      "metadata": {
        "trusted": true,
        "execution": {
          "iopub.status.busy": "2025-04-10T12:30:25.543487Z",
          "iopub.execute_input": "2025-04-10T12:30:25.543798Z",
          "iopub.status.idle": "2025-04-10T12:30:25.567430Z",
          "shell.execute_reply.started": "2025-04-10T12:30:25.543773Z",
          "shell.execute_reply": "2025-04-10T12:30:25.566713Z"
        },
        "id": "gEjxg8jCle0U",
        "outputId": "94a539d5-226b-4feb-f3b9-78df0bfcd9a4"
      },
      "outputs": [
        {
          "name": "stdout",
          "text": "['react', 'node. js', 'mongodb', 'javascript', 'html5', 'aws', 'kubernetes', 'version control', 'git', 'agile methodologies', 'ci', 'cd pipelines', 'jest', 'mocha']\n",
          "output_type": "stream"
        }
      ],
      "execution_count": null
    },
    {
      "cell_type": "code",
      "source": [
        "print(extract_skills(text2.lower()))\n"
      ],
      "metadata": {
        "trusted": true,
        "execution": {
          "iopub.status.busy": "2025-04-10T12:01:39.341386Z",
          "iopub.execute_input": "2025-04-10T12:01:39.341708Z",
          "iopub.status.idle": "2025-04-10T12:01:39.365493Z",
          "shell.execute_reply.started": "2025-04-10T12:01:39.341685Z",
          "shell.execute_reply": "2025-04-10T12:01:39.364619Z"
        },
        "id": "66NkQUhXle0V",
        "outputId": "79922a66-e070-40b6-b93a-7bbddc085029"
      },
      "outputs": [
        {
          "name": "stdout",
          "text": "['react', 'mongodb', 'javascript', 'html5', 'aws', 'kubernetes', 'version control', 'git', 'agile methodologies', 'ci', 'cd pipelines']\n",
          "output_type": "stream"
        }
      ],
      "execution_count": null
    },
    {
      "cell_type": "code",
      "source": [
        "job_description = \"\"\"\n",
        "We are looking for a Senior Full Stack Developer with extensive experience in web and mobile application development. The ideal candidate will have strong proficiency in JavaScript frameworks, including React and Angular, and will be well-versed in building scalable web applications. You will be working on cutting-edge technologies and must have experience with cloud services like AWS, Azure, and Google Cloud Platform. In addition, familiarity with DevOps practices, containerization, and microservices is a must.\n",
        "\n",
        "You should also be comfortable working with databases such as MySQL, PostgreSQL, and MongoDB, and be proficient in both SQL and NoSQL databases. A strong understanding of RESTful APIs, GraphQL, and serverless architectures is essential. Familiarity with agile development practices, continuous integration, and automated testing frameworks like Jest and Mocha is required. Experience with CI/CD pipelines is a must.\n",
        "\n",
        "In addition to front-end and back-end development, knowledge of infrastructure as code (IAC) tools such as Terraform and CloudFormation, and experience in deployment using Kubernetes and Docker is essential. You should also be experienced in building and deploying applications in a microservices architecture.\n",
        "\n",
        "Experience with machine learning frameworks like TensorFlow or PyTorch will be a plus, as the company plans to integrate AI-driven features into its products. Additionally, knowledge of version control tools, specifically Git, is required.\n",
        "\n",
        "Skills:\n",
        "- Languages: JavaScript, TypeScript, Python, Java\n",
        "- Frontend: React, Angular, Vue.js, HTML5, CSS3, Tailwind CSS\n",
        "- Backend: Node.js, Express, Django, Flask, Spring Boot\n",
        "- Databases: MySQL, PostgreSQL, MongoDB, Redis, Cassandra\n",
        "- Cloud: AWS, Azure, Google Cloud, Heroku\n",
        "- Containerization: Docker, Kubernetes\n",
        "- CI/CD: Jenkins, GitLab CI, CircleCI, Travis CI\n",
        "- Version Control: Git, GitHub, Bitbucket\n",
        "- DevOps: Jenkins, Ansible, Puppet, Terraform\n",
        "- APIs: RESTful APIs, GraphQL, WebSockets\n",
        "- Testing: Jest, Mocha, Cypress, Selenium\n",
        "- Machine Learning: TensorFlow, PyTorch, Scikit-learn\n",
        "- Others: Agile, Scrum, TDD, BDD, Microservices, Serverless, IaC, Nginx, Apache\n",
        "\"\"\"\n"
      ],
      "metadata": {
        "trusted": true,
        "execution": {
          "iopub.status.busy": "2025-04-10T12:42:01.613278Z",
          "iopub.execute_input": "2025-04-10T12:42:01.613633Z",
          "iopub.status.idle": "2025-04-10T12:42:01.617712Z",
          "shell.execute_reply.started": "2025-04-10T12:42:01.613604Z",
          "shell.execute_reply": "2025-04-10T12:42:01.616879Z"
        },
        "id": "sIKTGEE9le0V"
      },
      "outputs": [],
      "execution_count": null
    },
    {
      "cell_type": "code",
      "source": [
        "print(extract_skills(job_description.lower()))\n"
      ],
      "metadata": {
        "trusted": true,
        "execution": {
          "iopub.status.busy": "2025-04-10T12:42:45.318048Z",
          "iopub.execute_input": "2025-04-10T12:42:45.318391Z",
          "iopub.status.idle": "2025-04-10T12:42:45.361289Z",
          "shell.execute_reply.started": "2025-04-10T12:42:45.318363Z",
          "shell.execute_reply": "2025-04-10T12:42:45.360590Z"
        },
        "id": "UyHmCJQble0V",
        "outputId": "66a0015b-ec58-4548-e8aa-4413bd0e6afd"
      },
      "outputs": [
        {
          "name": "stdout",
          "text": "['javascript frameworks', 'react', 'angular', 'cloud services', 'aws', 'google', 'devops', 'containerization', 'microservices', 'mysql', 'postgresql', 'mongodb', 'sql', 'nosql', 'graphql', 'agile development', 'continuous integration', 'automated testing', 'jest', 'mocha', 'ci', 'cd pipelines', 'infrastructure as code', 'iac', 'terraform', 'kubernetes', 'machine learning', 'tensorflow', 'pytorch', 'version control', 'git', 'javascript', 'typescript', 'python', 'react', 'angular', 'html5', 'node. js', 'django']\n",
          "output_type": "stream"
        }
      ],
      "execution_count": null
    },
    {
      "cell_type": "code",
      "source": [
        "data_job_description = \"\"\"\n",
        "We are looking for a Data Scientist to join our growing team and help us extract valuable insights from large datasets. The ideal candidate will have strong experience with statistical analysis, machine learning algorithms, and data visualization techniques. You should be proficient in Python, R, and SQL, with a deep understanding of data manipulation, data wrangling, and exploratory data analysis (EDA).\n",
        "\n",
        "You will be responsible for developing predictive models using supervised and unsupervised machine learning techniques, including regression, classification, clustering, and anomaly detection. A solid understanding of advanced algorithms such as decision trees, random forests, gradient boosting, and neural networks is required. Familiarity with deep learning frameworks like TensorFlow, Keras, and PyTorch is a plus.\n",
        "\n",
        "The role also requires experience in time series analysis and forecasting, as well as working with big data platforms such as Hadoop and Spark. You should be comfortable working with cloud technologies, particularly AWS, Google Cloud, or Azure, and using platforms such as SageMaker or Databricks for model training and deployment.\n",
        "\n",
        "Experience with version control tools like Git, and the ability to collaborate with cross-functional teams in an agile environment is essential. You will also need to work with business stakeholders to define key metrics, develop dashboards, and communicate findings clearly.\n",
        "\n",
        "Skills:\n",
        "- Programming: Python, R, SQL, Bash\n",
        "- Machine Learning: Scikit-learn, XGBoost, LightGBM, CatBoost, TensorFlow, Keras, PyTorch\n",
        "- Data Manipulation: Pandas, NumPy, Dask\n",
        "- Data Visualization: Matplotlib, Seaborn, Plotly, Tableau, PowerBI\n",
        "- Big Data: Hadoop, Spark, Hive, Pig\n",
        "- Cloud: AWS, Google Cloud, Azure, Databricks\n",
        "- Version Control: Git, GitHub, GitLab\n",
        "- Time Series: ARIMA, Prophet, LSTM, SARIMA\n",
        "- Statistical Analysis: Hypothesis testing, A/B testing, Bayesian statistics\n",
        "- Deployment: Flask, FastAPI, Docker, Kubernetes\n",
        "- Databases: MySQL, PostgreSQL, MongoDB, Cassandra, Redshift\n",
        "- Other: Agile, Scrum, CI/CD, Data Warehousing, ETL, NLP\n",
        "\"\"\"\n"
      ],
      "metadata": {
        "trusted": true,
        "execution": {
          "iopub.status.busy": "2025-04-10T12:45:01.535071Z",
          "iopub.execute_input": "2025-04-10T12:45:01.535441Z",
          "iopub.status.idle": "2025-04-10T12:45:01.539700Z",
          "shell.execute_reply.started": "2025-04-10T12:45:01.535412Z",
          "shell.execute_reply": "2025-04-10T12:45:01.538862Z"
        },
        "id": "Pncw2MBble0W"
      },
      "outputs": [],
      "execution_count": null
    },
    {
      "cell_type": "code",
      "source": [
        "print(extract_skills(data_job_description.lower()))\n"
      ],
      "metadata": {
        "trusted": true,
        "execution": {
          "iopub.status.busy": "2025-04-10T12:45:08.826815Z",
          "iopub.execute_input": "2025-04-10T12:45:08.827168Z",
          "iopub.status.idle": "2025-04-10T12:45:08.873758Z",
          "shell.execute_reply.started": "2025-04-10T12:45:08.827142Z",
          "shell.execute_reply": "2025-04-10T12:45:08.872867Z"
        },
        "id": "viyCHZFHle0W",
        "outputId": "0c301f3b-f048-45fd-f6bd-42c4af3a763b"
      },
      "outputs": [
        {
          "name": "stdout",
          "text": "['statistical analysis', 'machine learning', 'data visualization', 'python', 'r', 'sql', 'data manipulation', 'data wrangling', 'exploratory data analysis', 'eda', 'machine learning', 'anomaly detection', 'decision trees', 'random forests', 'gradient boosting', 'deep learning', 'tensorflow', 'keras', 'pytorch', 'time series analysis', 'forecasting', 'big data', 'hadoop', 'aws', 'google cloud', 'databricks', 'model training', 'version control', 'git', 'dashboards', 'python', 'r', 'sql', 'bash', 'lightgbm', 'catboost', 'tensorflow', 'keras', 'pandas', 'numpy', 'matplotlib', 'seaborn', 'plotly', 'tableau', 'hadoop']\n",
          "output_type": "stream"
        }
      ],
      "execution_count": null
    },
    {
      "cell_type": "code",
      "source": [
        "import shutil\n",
        "\n",
        "# Define the model directory path\n",
        "model_dir = '/kaggle/working/kaggle/working/final_skill_model'\n",
        "\n",
        "# Specify the destination zip file path\n",
        "zip_file = '/kaggle/working/final_skill_model.zip'\n",
        "\n",
        "# Create a zip file of the model directory\n",
        "shutil.make_archive(zip_file.replace('.zip', ''), 'zip', model_dir)\n"
      ],
      "metadata": {
        "trusted": true,
        "execution": {
          "iopub.status.busy": "2025-04-10T12:31:29.764753Z",
          "iopub.execute_input": "2025-04-10T12:31:29.765120Z",
          "iopub.status.idle": "2025-04-10T12:31:50.611428Z",
          "shell.execute_reply.started": "2025-04-10T12:31:29.765091Z",
          "shell.execute_reply": "2025-04-10T12:31:50.610526Z"
        },
        "id": "2nt0n7wkle0W",
        "outputId": "9ea5e180-92ed-4fe0-a67c-3e8fc4580323"
      },
      "outputs": [
        {
          "execution_count": 26,
          "output_type": "execute_result",
          "data": {
            "text/plain": "'/kaggle/working/final_skill_model.zip'"
          },
          "metadata": {}
        }
      ],
      "execution_count": null
    },
    {
      "cell_type": "code",
      "source": [],
      "metadata": {
        "trusted": true,
        "id": "tdFyppbSle0W"
      },
      "outputs": [],
      "execution_count": null
    }
  ]
}